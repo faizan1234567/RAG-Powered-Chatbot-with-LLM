{
  "cells": [
    {
      "cell_type": "markdown",
      "id": "606986be-fd43-4b0f-b69b-02250e57e4b0",
      "metadata": {
        "id": "606986be-fd43-4b0f-b69b-02250e57e4b0"
      },
      "source": [
        "# **Buidling RAG Powered Chatbot for SINES**\n",
        "In this semester project we are building retreivel augmented geneartion based chatbot for School of interdisplinary engineering & sciences (SINES) for question answering. The chatbot should be able answer queries related to SINES.\n",
        "\n",
        "**Group Members:**\n",
        "1. Muhammad Faizan\n",
        "2. Umme Rubab\n",
        "3. Malaika Malik\n",
        "\n",
        "Course instructor: Dr. Usman Zia\n",
        "\n",
        "![chabot.png](data:image/png;base64,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)"
      ]
    },
    {
      "cell_type": "code",
      "source": [
        "%pwd\n",
        "%ls"
      ],
      "metadata": {
        "id": "VPLrpjRm5O5_"
      },
      "id": "VPLrpjRm5O5_",
      "execution_count": null,
      "outputs": []
    },
    {
      "cell_type": "markdown",
      "source": [
        "## Installation\n",
        "installing all necessary packages for building the chat.\n",
        "Following packages should be installed.\n",
        "```\n",
        "1. torch\n",
        "2. datasets\n",
        "3. transformers\n",
        "4. tensorflow\n",
        "5. langchain\n",
        "6. playwright\n",
        "7. html2text\n",
        "8. sentence_transformers\n",
        "9. faiss-cpu\n",
        "10. accelerate==0.21.0\n",
        "11. peft==0.4.0\n",
        "12. bitsandbytes==0.40.2\n",
        "13. trl==0.4.7\n",
        "```\n",
        "\n",
        "\n"
      ],
      "metadata": {
        "id": "nqBkoRMd5b-L"
      },
      "id": "nqBkoRMd5b-L"
    },
    {
      "cell_type": "code",
      "source": [
        "# run this if unix like commands are not working\n",
        "import locale\n",
        "locale.getdefaultlocale()\n"
      ],
      "metadata": {
        "colab": {
          "base_uri": "https://localhost:8080/"
        },
        "id": "-olCtPtDTnvJ",
        "outputId": "a6f7445c-2352-4904-ba71-f0071f8fac92"
      },
      "id": "-olCtPtDTnvJ",
      "execution_count": 148,
      "outputs": [
        {
          "output_type": "execute_result",
          "data": {
            "text/plain": [
              "('en_US', 'UTF-8')"
            ]
          },
          "metadata": {},
          "execution_count": 148
        }
      ]
    },
    {
      "cell_type": "code",
      "source": [
        "# install all the required packages\n",
        "!pip install -r requirements.txt"
      ],
      "metadata": {
        "id": "plxtsuRy5JB0"
      },
      "id": "plxtsuRy5JB0",
      "execution_count": null,
      "outputs": []
    },
    {
      "cell_type": "code",
      "execution_count": null,
      "id": "ae9d6495-af97-405d-b4d6-63b322cb82d5",
      "metadata": {
        "tags": [],
        "id": "ae9d6495-af97-405d-b4d6-63b322cb82d5"
      },
      "outputs": [],
      "source": [
        "# !pip install -q -U torch datasets transformers tensorflow langchain playwright html2text sentence_transformers faiss-cpu\n",
        "# !pip install -q accelerate==0.21.0 peft==0.4.0 bitsandbytes==0.40.2 trl==0.4.7"
      ]
    },
    {
      "cell_type": "markdown",
      "id": "bacdda41-708b-4af8-88a9-5056cbd08bf4",
      "metadata": {
        "id": "bacdda41-708b-4af8-88a9-5056cbd08bf4"
      },
      "source": [
        "### import all the required packages"
      ]
    },
    {
      "cell_type": "code",
      "execution_count": 108,
      "id": "505ca9a3-8c27-442e-bca6-154a65186d01",
      "metadata": {
        "tags": [],
        "id": "505ca9a3-8c27-442e-bca6-154a65186d01"
      },
      "outputs": [],
      "source": [
        "import os\n",
        "import torch\n",
        "from transformers import (\n",
        "    AutoModelForCausalLM,\n",
        "    AutoTokenizer,\n",
        "    BitsAndBytesConfig,\n",
        "    pipeline\n",
        ")\n",
        "from datasets import load_dataset\n",
        "from peft import LoraConfig, PeftModel\n",
        "\n",
        "from langchain.text_splitter import CharacterTextSplitter, RecursiveCharacterTextSplitter\n",
        "from langchain.document_transformers import Html2TextTransformer\n",
        "from langchain.document_loaders import AsyncChromiumLoader\n",
        "\n",
        "from langchain.embeddings.huggingface import HuggingFaceEmbeddings\n",
        "from langchain.vectorstores import FAISS\n",
        "\n",
        "from langchain.prompts import PromptTemplate\n",
        "from langchain.schema.runnable import RunnablePassthrough\n",
        "from langchain.llms import HuggingFacePipeline\n",
        "from langchain.chains import LLMChain\n",
        "from langchain_community.document_loaders import PyPDFLoader"
      ]
    },
    {
      "cell_type": "markdown",
      "id": "180f8d4e-a8bf-4389-b046-9827b310a3b3",
      "metadata": {
        "id": "180f8d4e-a8bf-4389-b046-9827b310a3b3"
      },
      "source": [
        "# **Using Mistal 7B Quantized model for Generation**\n",
        "From Hugging Face we import our quantized Mistral-7B model:\n",
        "- Outperforms Llama 2 13B on all benchmarks\n",
        "- Outperforms Llama 1 34B on many benchmarks\n",
        "- Approaches CodeLlama 7B performance on code, while remaining good at English tasks"
      ]
    },
    {
      "cell_type": "markdown",
      "source": [
        "set up a tokenization pipeline and loads a pre-trained language model, optionally using 4-bit precision and checking GPU compatibility for bfloat16 support."
      ],
      "metadata": {
        "id": "eDrWllZPKw4C"
      },
      "id": "eDrWllZPKw4C"
    },
    {
      "cell_type": "code",
      "execution_count": null,
      "id": "80f94e97-7e58-4253-9376-73af6f36e139",
      "metadata": {
        "tags": [],
        "id": "80f94e97-7e58-4253-9376-73af6f36e139"
      },
      "outputs": [],
      "source": [
        "#################################################################\n",
        "# Tokenizer\n",
        "#################################################################\n",
        "\n",
        "model_name='mistralai/Mistral-7B-Instruct-v0.1'\n",
        "\n",
        "tokenizer = AutoTokenizer.from_pretrained(model_name, trust_remote_code=True)\n",
        "tokenizer.pad_token = tokenizer.eos_token\n",
        "tokenizer.padding_side = \"right\"\n",
        "\n",
        "#################################################################\n",
        "# bitsandbytes parameters\n",
        "#################################################################\n",
        "\n",
        "# Activate 4-bit precision base model loading\n",
        "use_4bit = True\n",
        "\n",
        "# Compute dtype for 4-bit base models\n",
        "bnb_4bit_compute_dtype = \"float16\"\n",
        "\n",
        "# Quantization type (fp4 or nf4)\n",
        "bnb_4bit_quant_type = \"nf4\"\n",
        "\n",
        "# Activate nested quantization for 4-bit base models (double quantization)\n",
        "use_nested_quant = False\n",
        "\n",
        "#################################################################\n",
        "# Set up quantization config\n",
        "#################################################################\n",
        "compute_dtype = getattr(torch, bnb_4bit_compute_dtype)\n",
        "\n",
        "bnb_config = BitsAndBytesConfig(\n",
        "    load_in_4bit=use_4bit,\n",
        "    bnb_4bit_quant_type=bnb_4bit_quant_type,\n",
        "    bnb_4bit_compute_dtype=compute_dtype,\n",
        "    bnb_4bit_use_double_quant=use_nested_quant,\n",
        ")\n",
        "\n",
        "# Check GPU compatibility with bfloat16\n",
        "if compute_dtype == torch.float16 and use_4bit:\n",
        "    major, _ = torch.cuda.get_device_capability()\n",
        "    if major >= 8:\n",
        "        print(\"=\" * 80)\n",
        "        print(\"Your GPU supports bfloat16: accelerate training with bf16=True\")\n",
        "        print(\"=\" * 80)\n",
        "\n",
        "#################################################################\n",
        "# Load pre-trained config\n",
        "#################################################################\n",
        "model = AutoModelForCausalLM.from_pretrained(\n",
        "    model_name,\n",
        "    quantization_config=bnb_config,\n",
        ")"
      ]
    },
    {
      "cell_type": "markdown",
      "id": "e7fb199a-a537-4bd7-9888-d43a84c8ff69",
      "metadata": {
        "id": "e7fb199a-a537-4bd7-9888-d43a84c8ff69"
      },
      "source": [
        "### calculate number of trainable parameters in the model"
      ]
    },
    {
      "cell_type": "code",
      "execution_count": 6,
      "id": "91d2a86e-69e8-496f-b388-853168537c20",
      "metadata": {
        "tags": [],
        "id": "91d2a86e-69e8-496f-b388-853168537c20",
        "colab": {
          "base_uri": "https://localhost:8080/"
        },
        "outputId": "1c749176-dd17-42b3-f2c0-35c9b3c4c265"
      },
      "outputs": [
        {
          "output_type": "stream",
          "name": "stdout",
          "text": [
            "trainable model parameters: 262410240\n",
            "all model parameters: 3752071168\n",
            "percentage of trainable model parameters: 6.99%\n"
          ]
        }
      ],
      "source": [
        "def print_number_of_trainable_model_parameters(model):\n",
        "    trainable_model_params = 0\n",
        "    all_model_params = 0\n",
        "    for _, param in model.named_parameters():\n",
        "        all_model_params += param.numel()\n",
        "        if param.requires_grad:\n",
        "            trainable_model_params += param.numel()\n",
        "    return f\"trainable model parameters: {trainable_model_params}\\nall model parameters: {all_model_params}\\npercentage of trainable model parameters: {100 * trainable_model_params / all_model_params:.2f}%\"\n",
        "\n",
        "print(print_number_of_trainable_model_parameters(model))"
      ]
    },
    {
      "cell_type": "markdown",
      "id": "5a38c760-f5c8-49c6-9c0c-80719557fee5",
      "metadata": {
        "id": "5a38c760-f5c8-49c6-9c0c-80719557fee5"
      },
      "source": [
        "### Build Mistral text generation pipeline"
      ]
    },
    {
      "cell_type": "code",
      "execution_count": 121,
      "id": "8c613429-9e6c-4a1e-bc9c-579eb152434b",
      "metadata": {
        "tags": [],
        "id": "8c613429-9e6c-4a1e-bc9c-579eb152434b"
      },
      "outputs": [],
      "source": [
        "text_generation_pipeline = pipeline(\n",
        "    model=model,\n",
        "    tokenizer=tokenizer,\n",
        "    task=\"text-generation\",\n",
        "    temperature=0.2,\n",
        "    repetition_penalty=1.1,\n",
        "    return_full_text=True,\n",
        "    max_new_tokens=1000,\n",
        "    do_sample = True\n",
        ")"
      ]
    },
    {
      "cell_type": "code",
      "execution_count": 122,
      "id": "c859dd05-9114-42f1-81f2-52a28b7efdd7",
      "metadata": {
        "tags": [],
        "id": "c859dd05-9114-42f1-81f2-52a28b7efdd7"
      },
      "outputs": [],
      "source": [
        "mistral_llm = HuggingFacePipeline(pipeline=text_generation_pipeline)"
      ]
    },
    {
      "cell_type": "markdown",
      "source": [
        "## **Generating Response without RAG**\n",
        "Let's see how our model reacts to some of questions we ask, we may see the model may not be able to caputre the following:\n",
        "- no information about the recent events\n",
        "- hullucinate"
      ],
      "metadata": {
        "id": "c0RX6Q45Mvqi"
      },
      "id": "c0RX6Q45Mvqi"
    },
    {
      "cell_type": "code",
      "source": [
        "prompt_template = \"\"\"\n",
        "### [INST]\n",
        "Instruction: Answer the question based on your\n",
        "knowledge about NUST school of interdisplinary engineering & sciences (SINES):\n",
        "\n",
        "{context}\n",
        "\n",
        "### QUESTION:\n",
        "{question}\n",
        "\n",
        "[/INST]\n",
        " \"\"\"\n",
        "\n",
        "# Create prompt from prompt template\n",
        "prompt = PromptTemplate(\n",
        "    input_variables=[\"context\", \"question\"],\n",
        "    template=prompt_template,\n",
        ")\n",
        "\n",
        "# Create llm chain\n",
        "llm_chain = LLMChain(llm=mistral_llm, prompt=prompt)"
      ],
      "metadata": {
        "id": "YUvDc7iUMwgf"
      },
      "id": "YUvDc7iUMwgf",
      "execution_count": 123,
      "outputs": []
    },
    {
      "cell_type": "code",
      "source": [
        "response = llm_chain.invoke({\"context\": \"\", \"question\": \"where is SINES located?\"})"
      ],
      "metadata": {
        "colab": {
          "base_uri": "https://localhost:8080/"
        },
        "id": "c64kwko4NoJd",
        "outputId": "c08c2b1d-f37d-4be6-d7b3-ba1ba3551d97"
      },
      "id": "c64kwko4NoJd",
      "execution_count": 124,
      "outputs": [
        {
          "output_type": "stream",
          "name": "stderr",
          "text": [
            "Setting `pad_token_id` to `eos_token_id`:2 for open-end generation.\n"
          ]
        }
      ]
    },
    {
      "cell_type": "code",
      "source": [
        "print(response[\"text\"])"
      ],
      "metadata": {
        "colab": {
          "base_uri": "https://localhost:8080/"
        },
        "id": "PScKg3TIOCCQ",
        "outputId": "9a1b6069-3cd0-41cc-c047-a0eb74e1f9a9"
      },
      "id": "PScKg3TIOCCQ",
      "execution_count": 125,
      "outputs": [
        {
          "output_type": "stream",
          "name": "stdout",
          "text": [
            " The School of Interdisciplinary Engineering and Sciences (SINES) at National University of Science and Technology (NUST) is located in Islamabad, Pakistan.\n"
          ]
        }
      ]
    },
    {
      "cell_type": "code",
      "source": [
        "response2 = llm_chain.invoke({\"context\": \"\", \"question\": \"who is the principal of SINES?\"})"
      ],
      "metadata": {
        "id": "q500MbYXWxem",
        "colab": {
          "base_uri": "https://localhost:8080/"
        },
        "outputId": "97199381-3892-4e39-ccce-d3bb64ba151b"
      },
      "id": "q500MbYXWxem",
      "execution_count": 126,
      "outputs": [
        {
          "output_type": "stream",
          "name": "stderr",
          "text": [
            "Setting `pad_token_id` to `eos_token_id`:2 for open-end generation.\n"
          ]
        }
      ]
    },
    {
      "cell_type": "code",
      "source": [
        "print(response2[\"text\"])"
      ],
      "metadata": {
        "colab": {
          "base_uri": "https://localhost:8080/"
        },
        "id": "vesY4ygYW5kF",
        "outputId": "41bb4b99-5f0e-4527-ef04-7c3d75bd5a4f"
      },
      "id": "vesY4ygYW5kF",
      "execution_count": 127,
      "outputs": [
        {
          "output_type": "stream",
          "name": "stdout",
          "text": [
            " I apologize, but I do not have access to real-time information and cannot provide an answer to this question. As of my last update, the principal of NUST School of Interdisciplinary Engineering & Sciences (SINES) was Dr. Muhammad Zameer Abbas. However, it's possible that the principal has changed since then. It would be best to check with the official website or contact the university directly for the most up-to-date information.\n"
          ]
        }
      ]
    },
    {
      "cell_type": "markdown",
      "source": [
        "## **RAG - Ratreivel Augmented Generation**\n",
        "The generator has several problem as we saw above:\n",
        "- No up to date knowledge about the subject in this case SINES\n",
        "- Sometimes generate miss information or hullucinate\n",
        "- Doesn't provide most precise and concise information\n",
        "- May miss some important  information\n",
        "\n",
        "Based on that we may need to add some additinonal context to the generator model to leverage the the accurate, precise, up to date, and concise knowledge to generate response. Thefore, RAG is the most optimal choice we have that takes additional context in to the account along with query in the prompt.\n",
        "\n",
        "![RAG.jpg](data:image/jpeg;base64,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)"
      ],
      "metadata": {
        "id": "lFh6QYS3EQcB"
      },
      "id": "lFh6QYS3EQcB"
    },
    {
      "cell_type": "markdown",
      "id": "e3a07789-78f5-498c-987b-9ed3eb459fe6",
      "metadata": {
        "id": "e3a07789-78f5-498c-987b-9ed3eb459fe6"
      },
      "source": [
        "### **Document Preprocessing**\n",
        "in this next cell, we get a pdf file regarding sines, we then perform following\n",
        "operations on it:\n",
        "\n",
        "- Loading the pdf file from the folder\n",
        "- Splitting the document into chunks due to context window size limitation\n",
        "- Creating vector database using FAISS with hugging face text embedding model\n",
        "  all-mpnet-base-v2\n",
        "- storing the vector database for retereival"
      ]
    },
    {
      "cell_type": "code",
      "source": [
        "doc_path = '/content/sines.txt'\n",
        "if os.path.exists(doc_path):\n",
        "  with open(doc_path, 'r',  encoding=\"utf-8\") as f:\n",
        "    document = f.read()\n",
        "    print(document[:1000])\n",
        "else:\n",
        "  print('document not found')\n",
        "  document = \"\"\n"
      ],
      "metadata": {
        "colab": {
          "base_uri": "https://localhost:8080/"
        },
        "id": "shNnBQpfQyMe",
        "outputId": "341d98d7-2044-49dc-a390-a2daf7df88bd"
      },
      "id": "shNnBQpfQyMe",
      "execution_count": 120,
      "outputs": [
        {
          "output_type": "stream",
          "name": "stdout",
          "text": [
            "Welcome to SINES\n",
            "School of Interdisciplinary Engineering & Sciences is a top-notch research institute, one of its\n",
            "own kinds in the country; parented by National University of Science and Technology\n",
            "Islamabad. It was established in 2007 and is famous for its supercomputing facilities which\n",
            "provide its technical studies with cutting edge resources. SINES NUST’s supercomputer once\n",
            "made it to the list of top 500 supercomputers worldwide. Facilitated by the enabling environment\n",
            "the faculty and students at SINES developed a multi-disciplinary approach to research and\n",
            "education. The result oriented research by our faculty and students has made significant\n",
            "contributions in the socio-economic growth of the country.\n",
            "The education, training and research activities of SINES have been divided into two main\n",
            "streams, namely: Computational Sciences; and Computational Engineering.\n",
            "At SINES, students are encouraged and facilitated to involve themselves in specialized topics\n",
            "with faculty members who are \n"
          ]
        }
      ]
    },
    {
      "cell_type": "code",
      "execution_count": 109,
      "id": "ff328fea-b7c7-4ca3-915c-39c0ebaa2f7a",
      "metadata": {
        "collapsed": true,
        "jupyter": {
          "outputs_hidden": true
        },
        "tags": [],
        "id": "ff328fea-b7c7-4ca3-915c-39c0ebaa2f7a"
      },
      "outputs": [],
      "source": [
        "# load the document for for splitting and createing embedding\n",
        "# to load pdf file\n",
        "loader = PyPDFLoader(\"/content/sines.pdf\")\n",
        "docs = loader.load()\n",
        "\n",
        "\n",
        "# Chunk text\n",
        "text_splitter = RecursiveCharacterTextSplitter(chunk_size=600,\n",
        "                                      chunk_overlap=100)\n",
        "chunked_documents = text_splitter.split_documents(docs)\n",
        "\n",
        "# Load chunked documents into the FAISS index\n",
        "db = FAISS.from_documents(chunked_documents,\n",
        "                          HuggingFaceEmbeddings(model_name='sentence-transformers/all-mpnet-base-v2'))\n",
        "\n",
        "retriever = db.as_retriever()\n",
        "# retriever = db.as_retriever(\n",
        "#     search_type=\"similarity\",\n",
        "#     search_kwargs={'k': 7})"
      ]
    },
    {
      "cell_type": "code",
      "source": [
        "# print some information about the document, how it was chunked.\n",
        "for chunk in chunked_documents:\n",
        "  print(chunk)\n",
        "  print()"
      ],
      "metadata": {
        "colab": {
          "base_uri": "https://localhost:8080/"
        },
        "id": "kgLOx9a1Y-kY",
        "outputId": "84b0375b-4234-4853-95aa-1246eb4b260e"
      },
      "id": "kgLOx9a1Y-kY",
      "execution_count": 110,
      "outputs": [
        {
          "output_type": "stream",
          "name": "stdout",
          "text": [
            "page_content='Welcome to SINES  \\nSchool of Interdisciplinary Engineering & Sciences is a top -notch research institute, one of its \\nown kinds in the country; parented by National University of Science and Technology \\nIslamabad. It was established in 2007 and is famous for its supercomputing facilities which \\nprovide its technical studies with cutting edge resources. SINES NUST’s supercomputer once \\nmade it to the list of top 500 supercomputers worldwide. Facilitated by the enabling environment \\nthe faculty and students at SINES developed a multi -disciplinary approach to research and' metadata={'source': '/content/sines.pdf', 'page': 0}\n",
            "\n",
            "page_content='the faculty and students at SINES developed a multi -disciplinary approach to research and \\neducation. The result oriented research by our faculty and students has made significant \\ncontributions in the socio -economic growth of the country.  \\nThe education, training and research activities of SINES have been divided into two main \\nstreams, namely: Computational Sciences; and Computational Engineering.  \\nAt SINES, students are encouraged and facilitated to involve themselves in specialized topics' metadata={'source': '/content/sines.pdf', 'page': 0}\n",
            "\n",
            "page_content='At SINES, students are encouraged and facilitated to involve themselves in specialized topics \\nwith faculty members who are on the forefront of innovation in their fields and the practitioners \\nwho bring real -world, real -time experience to the classroom. The  SINES community is driven by \\na shared purpose: to make a better world through education, research, and innovation.  \\n \\nWhy SINES? – National University of Sciences and \\nTechnology (NUST)  \\nWorld’s Top Universities and Departments  \\nNUST is placed at number 400 in the QS World University Ranking 2019. Moreover, in the' metadata={'source': '/content/sines.pdf', 'page': 0}\n",
            "\n",
            "page_content='NUST is placed at number 400 in the QS World University Ranking 2019. Moreover, in the \\nsubject ranking, the university is placed at number 367 in Aeronautical Engineering and at \\nnumber 273 in Computer Science and Information Systems. SINES improved scores in \\nacademic reputation, citations per faculty, faculty/student ratio has helped further consolidate its \\nposition this year.  \\nSUPERCOMPUTING RESEARCH AND EDUCATION CENTRE \\n(SCREC)   \\nSupercomputing Research and Education Facility is a Centre of Excellence in High -' metadata={'source': '/content/sines.pdf', 'page': 0}\n",
            "\n",
            "page_content='(SCREC)   \\nSupercomputing Research and Education Facility is a Centre of Excellence in High -\\nPerformance Computing with a mission to support the research and development efforts at the \\nNational University of Sciences and Technology (NUST).  \\nExpert Faculty Members  \\nSINES takes pride in its faculty members that have completed their education from highly \\nranked universities worldwide. Their experience from these universities allows the school to' metadata={'source': '/content/sines.pdf', 'page': 0}\n",
            "\n",
            "page_content='offer current content being delivered by domain experts. We have unique faculty, a total of 19 \\nfaculty members, including associate professors, assistant professors, RVFs and uniform faculty   \\nFinest learning environment  \\nAt SINES, students are encouraged and facilitated to involve themselves in specialized topics \\nwith faculty members who are at the forefront of innovation in their fields and the practitioners \\nwho bring real -world, real -time experience to the classroom.  \\nVision and Mission  \\nSINES: Vision' metadata={'source': '/content/sines.pdf', 'page': 1}\n",
            "\n",
            "page_content='Vision and Mission  \\nSINES: Vision  \\nTo be known for interdisciplinary education and research in engineering and sciences, \\ncommitment to discovery and dissemination of knowledge, developing technical, managerial, \\ninterpersonal and communication skills and contributing in socio -economic growth  of the country \\nthrough innovative solution methodologies for problems in a variety of fields via modeling & \\nsimulation  \\nSINES: Mission  \\nTo provide excellent interdisciplinary wholesome education and research opportunities of' metadata={'source': '/content/sines.pdf', 'page': 1}\n",
            "\n",
            "page_content='To provide excellent interdisciplinary wholesome education and research opportunities of \\nmodeling & simulation in engineering and sciences to students from diverse background \\nthrough competent faculty, adaptive mechanisms and enabling environment in collab oration \\nwith various constituencies of the society  \\nSINES : Core Values  \\nIntegrity  \\nInnovation  \\nTeamwork  \\nHistory and Establishment  \\nThe School of Interdisciplinary Engineering & Sciences (SINES) was established at NUST in \\n2007 to set up modeling and simulation facilities for design and development in various' metadata={'source': '/content/sines.pdf', 'page': 1}\n",
            "\n",
            "page_content='2007 to set up modeling and simulation facilities for design and development in various \\ndisciplines through education, training and research. The center was founded t o act as a \\nplatform to integrate design and development efforts by the government, academia and \\nindustry. Progress in this direction could only be made through cross -disciplinary research and \\neducational programmes in collaboration with industry and govern ment. Specifically, there was \\na need for integrating analytical and computational techniques with advances in computer \\nhardware and software.' metadata={'source': '/content/sines.pdf', 'page': 1}\n",
            "\n",
            "page_content='hardware and software.  \\nSINES started its first MS programme in Computational Science and Engineering in Fall 2008, \\nwith specializations in “Fluid Flow and Structures” and “Computational Infrastructures and \\nVisualisation”.  \\nIn Fall, 2010, the programme was extended to PhD in Computational Science and Engineering. \\nDuring the first four years, the educational and research programmes at SINES grew on the \\nfoundation of ten interrelated thrust areas, each focusing on mathematical modeling and' metadata={'source': '/content/sines.pdf', 'page': 1}\n",
            "\n",
            "page_content='simulation of a particular domain: structures; fluids; electrical systems; communication systems; \\ncomputer and network architecture; operations research; and human behavior. In 2011, \\ncomputational biology and drug design were added as new concentration are as both in MS and \\nPhD.  \\nIn 2012, a Centre of Excellence titled ‘Super Computing Research and Education Center \\n(SCREC)’ was established at SINES. SCREC houses a supercomputing facility and is presently \\nbeing utilized in computation -intensive research projects in the areas of fluid  dynamics and \\nbiosciences.' metadata={'source': '/content/sines.pdf', 'page': 2}\n",
            "\n",
            "page_content='biosciences.  \\nRecently, the education, training and research activities have been divided into two main \\nstreams or departments, namely: Sciences; and Engineering. These departments have been \\nfurther divided into divisions to keep the activities focused, better managed a s well as \\nsynergised. Sciences comprises Computer Science, Bioinformatics, and Computational & \\nApplied Mathematics. Similarly, the Engineering division is divided into Engineering Sciences, \\nSystems Engineering and Operations Research.  \\nMessage from the Principal' metadata={'source': '/content/sines.pdf', 'page': 2}\n",
            "\n",
            "page_content='Systems Engineering and Operations Research.  \\nMessage from the Principal  \\nIt is both an honor and privilege to warmly welcome you to the School of Interdisciplinary \\nEngineering & Sciences (SINES). A university and thereby a country is defined by the research \\nactivities adapted by it which have the potential to bring changes to t he nation. Considering the \\nutmost importance of modern -day research, SINES was established in 2008 and has produced \\nskilled graduates in interdisciplinary and diverse arenas.  \\nSINES is committed to excellence in academics in our classrooms and meaningful' metadata={'source': '/content/sines.pdf', 'page': 2}\n",
            "\n",
            "page_content='SINES is committed to excellence in academics in our classrooms and meaningful \\ninterdisciplinary research. Competent faculty and relevant equipped facilities are our key \\nstrengths making it one of the best research centers. We believe that the opportunity for higher \\neducation should be available to all who seek it, and we will continue to meet the ongoing \\nchallenges that higher education presents in the years ahead. Our students are provided with \\nthe academic tools, practical skills, and “real world” opport unities necessary to advance as' metadata={'source': '/content/sines.pdf', 'page': 2}\n",
            "\n",
            "page_content='the academic tools, practical skills, and “real world” opport unities necessary to advance as \\nleaders in their professions and their communities. I have a great belief in the capacity and \\npotential of our students and the wider community to come together. We encourage active \\nparticipation in an education that challen ges critical thinking, provides career preparation, instills \\nvalues, and inspires lifelong learning. We realize that each student is unique and, as a \\ncommunity, we strive to maximize that unique potential.' metadata={'source': '/content/sines.pdf', 'page': 2}\n",
            "\n",
            "page_content='community, we strive to maximize that unique potential.  \\nThis academic year, we will continue our many efforts to make the educational and research \\nprogram ever stronger and more meaningful. It is indeed an exciting opportunity for you to join \\nat this time as we are in the midst of a new regime that is driving t he research center towards \\ngenuine high expectations and excellence which will permeate every aspect of SINES. We are \\nreorganizing, growing, building new facilities, enhancing laboratories, and continuing to provide' metadata={'source': '/content/sines.pdf', 'page': 2}\n",
            "\n",
            "page_content='reorganizing, growing, building new facilities, enhancing laboratories, and continuing to provide \\ninterdisciplinary education. I commend y ou for your interest in interdisciplinary education and \\nresearch that address both diversity and teamwork. We look forward to having you join the \\nSINES’ family.  \\nDr Hammad M. Cheema, Principal SINES  \\nPrincipal SINES' metadata={'source': '/content/sines.pdf', 'page': 2}\n",
            "\n",
            "page_content='SDGs aligned Projects  \\n  \\nAdoption of a Performance Evaluation Technique for the Development of a Framework for the \\nClimatic Responsive Urban Design (CRUD)  \\n  \\nPI: Dr Salma Sherbaz  \\nResearch studies on urban microclimate are gaining popularity due to recent climate changes \\nand rapid urbanization. Streets are the basic elements of a complex urban -built environment \\nand are usually considered of simple rectangular shape, commonly known a s the ‘‘urban \\ncanyon” (UC). The street orientation and geometry significantly affect wind and heat distribution' metadata={'source': '/content/sines.pdf', 'page': 3}\n",
            "\n",
            "page_content='canyon” (UC). The street orientation and geometry significantly affect wind and heat distribution \\ninside an urban street canyon, affecting the building’s energy performance and natural and \\nhybrid ventilation efficiencies. It also affects pede strian comfort, pollutant dispersion, and overall \\nair quality at the street level. So for climatologists and designers, the knowledge of flow \\ncharacteristics in street canyons is an important consideration for Climate -responsive urban \\ndesign. This research  aims to guide the designer in the early -stage climate -responsive urban' metadata={'source': '/content/sines.pdf', 'page': 3}\n",
            "\n",
            "page_content='design. This research  aims to guide the designer in the early -stage climate -responsive urban \\ndesign. The project is aligned with the UN Sustainable Development Goals, SDG 11: \\nSustainable Cities and Communities and SDG 11: Climate Action.   \\nIn-depth analysis of prediction and forecasting of sepsis in ICU patients using Deep Learning  \\nPI: Dr Mehak Rafiq  \\nSepsis is a life -threatening reaction to an infection. Using AI to predict sepsis about 4 -6hrs \\nearlier than doctors. This project will help to avoid complications due to sepsis in ICU. Moreover,' metadata={'source': '/content/sines.pdf', 'page': 3}\n",
            "\n",
            "page_content='with the help of this project, we can extend good care in rur al and unprivileged areas. Using \\nmachine learning models to evaluate heterogeneity in sepsis treatment patterns contained \\nwithin granular data of electronic health records and to forecast sepsis using minimum features \\nto help accurately predict the onset o f sepsis a minimum of 4 -6 hours earlier. The project is \\naligned with the UN Sustainable Development Goals, SDG 3: Ensure healthy lives and promote  \\nwell-being for all at all ages  \\n \\n1. Project Title: Virtual reality training simulation for critical multioperator vehicles' metadata={'source': '/content/sines.pdf', 'page': 3}\n",
            "\n",
            "page_content='1. Project Title: Virtual reality training simulation for critical multioperator vehicles  \\nFunding Agency: RDE (MoDP)  \\nAmounting Rs. 50.097 M  \\nPrincipal Investigator: Dr. Shahzad Rasool  \\nDuration: 15 Months (2022 -2023)  \\n \\n2. Project Title: Simulation of vehicle operator procedures in VR  \\nFunding Agency: RDE (MoDP)  \\nAmounting Rs. 2.0 M  \\nPrincipal Investigator: Dr. Shahzad Rasool  \\nDuration: 03 Months (2022)  \\n \\n3. Project Title: Development of a virtual reality training and testing system for learning in \\ncomplex domains  \\nFunding Agency: HEC' metadata={'source': '/content/sines.pdf', 'page': 3}\n",
            "\n",
            "page_content='Amounting Rs. 6.28 M  \\nPrincipal Investigator: Dr. Shahzad Rasool  \\nDuration: 36 Months (2022 -2025)  \\n School of Interdisciplinary Engineering & Sciences  \\n \\n4. Project Title: City -level vulnerability to COVID 19 pandemic: Spatio -temporal analysis of effect \\nof land use and built  \\nenvironment on COVID 19 severity  \\nFunding Agency: NIH  \\nAmounting Rs. 0.6 M  \\nPrincipal Investigator: Dr. Salma Sherbaz  \\nDuration: 06 Months (2022)  \\n \\n5. Project Title: Flight Sight Golf Launch Monitor  \\nFunding Agency: Al -Basirr Technologies  \\nAmounting Rs. 1.465 M' metadata={'source': '/content/sines.pdf', 'page': 4}\n",
            "\n",
            "page_content='Funding Agency: Al -Basirr Technologies  \\nAmounting Rs. 1.465 M  \\nPrincipal Investigator: Dr. Zartasha Mustansar  \\nDuration: 06 Months (2022)  \\n \\n6. Project Title: Biomechanical Engineering of Post -Covid Bone health – The aftermath of \\nCovid - based bone issues  \\nFunding Agency: HEC  \\nAmounting Rs. 5.387 M  \\nPrincipal Investigator: Dr. Zartasha Mustansar  \\nDuration: 24 Months (2022 -2024)  \\n \\n7. Project Title: Simulation of Chemical Reactions and Environmental Effects on the Block Co - \\nPolymer of HTPB TDI and  \\nMAPO  \\nFunding Agency: NESCOM  \\nAmounting Rs. 1.0256 M' metadata={'source': '/content/sines.pdf', 'page': 4}\n",
            "\n",
            "page_content='Polymer of HTPB TDI and  \\nMAPO  \\nFunding Agency: NESCOM  \\nAmounting Rs. 1.0256 M  \\nPrincipal Investigator: Dr. Fouzia Perveen Malik  \\nDuration: 12 Months (2022 -2023)  \\n \\n8. Project Title: NUST Shuttle Tracking Devices  \\nFunding Agency: NUST  \\nAmounting Rs. 0.700 M  \\nPrincipal Investigator: Dr. Hammad M. Cheema  \\nDuration: 06 Months (2022)  \\n \\n9. Project Title: Portar: Development of a Portable radar for Tactical Defense,& Security \\nApplications  \\nFunding Agency: HEC  \\nAmounting Rs. 18.356 M' metadata={'source': '/content/sines.pdf', 'page': 4}\n",
            "\n",
            "page_content='Principal Investigator: Dr. Hammad M. Cheema  \\nDuration: 36 Months (2022 -2025)  \\n \\n10. Project Title: Safe Rail Development of Obstacle Detection and Warning System using \\nMicrowave long range Radar for  \\nML-1 Railway  \\nFunding Agency: HEC  \\nAmounting Rs. 58.170 M  \\nPrincipal Investigator: Dr. Hammad M. Cheema  \\nDuration: 36 Months (2022 -2025)  \\nSchool of Interdisciplinary Engineering & Sciences  \\n \\n11. Project Title: Development of Tracking Portal for Restoration of Habitats through Tree \\nPlantation  \\nFunding Agency: Serena Hotels  \\nAmounting Rs. 1.87 M' metadata={'source': '/content/sines.pdf', 'page': 5}\n",
            "\n",
            "page_content='Plantation  \\nFunding Agency: Serena Hotels  \\nAmounting Rs. 1.87 M  \\nPrincipal Investigator: Dr. Muhammad Tariq Saeed  \\nDuration: 36 Months (2022 -2023)  \\n \\n12. Project Title: Gap Analysis on Industry 4.0  \\nFunding Agency: CottonWeb (Pvt) Ltd  \\nAmounting Rs. 1.6 M  \\nPrincipal Investigator: Dr. Hammad M. Cheema  \\nDuration: 04 Months (2022)  \\n \\n13. Project Title: Commercial Scale Development of Indigenous Transmit -Receive Module for \\nAirborne Radars  \\nFunding Agency: HEC  \\nAmounting Rs. 12.421 M  \\nPrincipal Investigator: Dr. Hammad M. Cheema  \\nDuration: 24 Months (2021 -2023)' metadata={'source': '/content/sines.pdf', 'page': 5}\n",
            "\n",
            "page_content='Principal Investigator: Dr. Hammad M. Cheema  \\nDuration: 24 Months (2021 -2023)  \\n \\n14. Project Title: Simulation Model for Electro Optical Engagement – Phase -II \\nFunding Agency: NESCOM  \\nAmounting Rs. 0.2 M  \\nPrincipal Investigator: Dr. Junaid Ahmad Khan  \\nDuration: 18 Months (2021 -2023)  \\n \\n15. Project Title: Integrated modeling of the cure process and the damage behavior of VFRP \\ncomposites  \\nFunding Agency: BRAIA  \\nAmounting Rs. 48800 RMB  \\nPrincipal Investigator: Dr. Israr ud Din  \\nDuration: 12 Months (2021 -2022)' metadata={'source': '/content/sines.pdf', 'page': 5}\n",
            "\n",
            "page_content='16. NUST -In-depth analysis & foreecastin of sepsis in ICU patients using deep learning -RCMS  \\nFunding Agency: XpertFlow  \\nAmounting Rs. 0.6 M  \\nPrincipal Investigator: Dr. Mehak Rafiq  \\nDuration: 06 Months (2021 -2022)  \\nSchool of Interdisciplinary Engineering & Sciences  \\n \\n17. NUST -Adoption of a performance evaluation technique for the development of a framework \\nfor the  \\nclimate responsive urban design (CRUD) -RCMS  \\nFunding Agency: PIDE  \\nAmountingRs. 1.008 M  \\nPrincipal Investigator: Dr. Salma Sherbaz  \\nDuration: 12 Months (2021 -2022)' metadata={'source': '/content/sines.pdf', 'page': 6}\n",
            "\n",
            "page_content='Principal Investigator: Dr. Salma Sherbaz  \\nDuration: 12 Months (2021 -2022)  \\n \\n18. Project Title: Effect of forebody shaping on wing rock phenomena: Aerodynamics and Flight \\nStability Considerations  \\nFunding Agency: BRAIA  \\nAmounting Rs. 1.257 M  \\nPrincipal Investigator: Dr. Adnan Maqsood  \\nDuration: 12 Months (2020 -2021)  \\n \\n19. Project Title: Development of Generalized Tracks Association (GTA),Validation and \\nOptimization System (VOS) -RCMS  \\nFunding Agency: PAF  \\nAmounting Rs. 4.979 M  \\nPrincipal Investigator: Dr. Mian Ilyas Ahmad  \\nDuration: 12 Months (2020 -2021)' metadata={'source': '/content/sines.pdf', 'page': 6}\n",
            "\n",
            "page_content='Principal Investigator: Dr. Mian Ilyas Ahmad  \\nDuration: 12 Months (2020 -2021)  \\n \\n20. Project Title: In -Silico Modeling and Analysis on Molybdenum Cofactor Deficiency in \\nHumans  \\nFunding Agency: HEC  \\nAmounting Rs. 2.987 M  \\nPrincipal Investigator: Dr. Uzma Habib  \\nDuration: 23 Months (2019 -2021)  \\n \\n21. Project Title: Identificationa of Losses in a Gas Distribution Network through Reduced Order \\nModeling and Simulation  \\nFunding Agency: HEC  \\nAmounting Rs. 2.246 M  \\nPrincipal Investigator: Dr. Mian Ilyas Ahmad  \\nDuration: 24 Months (2019 -2021)' metadata={'source': '/content/sines.pdf', 'page': 6}\n",
            "\n",
            "page_content='22. Project Title: Generation Longitudinal Flight Dynamic Stability Derivatives Using \\nComputational Fluid Dynamics for JF17 Thunder Aircraft  \\nFunding Agency: HEC  \\nAmounting Rs. 5.25 M  \\nPrincipal Investigator: Dr. Adnan Maqsood  \\nDuration: 24 Months (2019 -2021)  \\n \\n23. Project Title: Understanding the role of iRhoms in EGFR Signiling Pathway and its Role in \\nBreast and Colorectal Cancer  \\nSchool of Interdisciplinary Engineering & Sciences  \\nFunding Agency: HEC  \\nAmounting Rs. 1.504 M  \\nPrincipal Investigator: Dr. Mehak Rafiq  \\nDuration: 24 Months (2019 -2021)' metadata={'source': '/content/sines.pdf', 'page': 7}\n",
            "\n",
            "page_content='Principal Investigator: Dr. Mehak Rafiq  \\nDuration: 24 Months (2019 -2021)  \\n \\n24. Project Title: Development of GUI Integrated with Server -Based Backend Satellite Imagery \\nAnalysis Algorithms  \\nFunding Agency: PAF  \\nAmounting Rs. 3.17 M  \\nPrincipal Investigator: Dr. Muhammad Tariq Saeed  \\nDuration: 06 Months (2019)  \\n \\n25. Project Title: Development of Geometrically accurate models (3D) of Human Brain for \\nCalculation of Intra Cranial  \\nPressure (ICP) due to presence of tumors Using Image Based Modeling and Finite  \\nFunding Agency: HEC  \\nAmounting Rs. 1.458 M' metadata={'source': '/content/sines.pdf', 'page': 7}\n",
            "\n",
            "page_content='Funding Agency: HEC  \\nAmounting Rs. 1.458 M  \\nPrincipal Investigator: Dr. Zartasha Mustansar  \\nDuration: 24 Months (2018 -2020)  \\n \\n26. Project Title: Data Analysis of Labour Management System  \\nFunding Agency: DrTech  \\nAmounting Rs. 1.14 M  \\nPrincipal Investigator: Dr. Mehak Rafiq  \\nDuration: 06 Months (2018 -2019)  \\n \\n27. Project Title: Design of Fins of Armour -Piercing Fin -Stabilized Discarding Sabot (APFSDS) \\nwith Enhanced Penetration  \\nFunding Agency: POF  \\nAmounting Rs. 0.23 M  \\nPrincipal Investigator: Dr. Adnan Maqsood  \\nDuration: 05 Months (2018 -2019)' metadata={'source': '/content/sines.pdf', 'page': 7}\n",
            "\n",
            "page_content='Principal Investigator: Dr. Adnan Maqsood  \\nDuration: 05 Months (2018 -2019)  \\n28. Project Title: Flight Dynamic Analysis of Verstile Wing Morphing Techniques for UAVs / \\nUCAVs' metadata={'source': '/content/sines.pdf', 'page': 7}\n",
            "\n",
            "page_content='Funding Agency: PAF  \\nAmounting Rs. 0.96 M  \\nPrincipal Investigator: Dr. Adnan Maqsood  \\nDuration: 12 Months (2018 -2019)  \\n \\n29. Project Title: Development of Surrogate Models for Flight Performance Estimation of Fixed - \\nWing UAVs from Primitive  \\nGeometric Data  \\nFunding Agency: PAF  \\nAmounting Rs. 0.96 M  \\nPrincipal Investigator: Dr. Adnan Maqsood  \\nSchool of Interdisciplinary Engineering & Sciences  \\nDuration: 12 Months (2018 -2019)  \\n \\n30. Project Title: Aerodynamic and flight stability assessment of active flow control technology \\nfor Fifth Generation Fighter  \\nAircraft' metadata={'source': '/content/sines.pdf', 'page': 8}\n",
            "\n",
            "page_content='for Fifth Generation Fighter  \\nAircraft  \\nFunding Agency: PAF  \\nAmounting Rs. 0.99 M  \\nPrincipal Investigator: Dr. Adnan Maqsood  \\nDuration: 12 Months (2018 -2019)  \\n \\n31. Project Title: Simulation Model for Electro Optical Engagement  \\nFunding Agency: NESCOM  \\nAmounting Rs. 0.3 M  \\nPrincipal Investigator: Dr. Junaid Ahmad Khan  \\nDuration: 12 Months (2018 -2019)  \\n \\n32. Project Title: Aerodynamic Analysis of competing conceptual designs for Fifth Generation \\nFighter Aircraft  \\nFunding Agency: PAF  \\nAmounting Rs. 1.65 M  \\nPrincipal Investigator: Dr. Adnan Maqsood  \\nDuration: 06 Months (2018)' metadata={'source': '/content/sines.pdf', 'page': 8}\n",
            "\n",
            "page_content='Amounting Rs. 1.65 M  \\nPrincipal Investigator: Dr. Adnan Maqsood  \\nDuration: 06 Months (2018)  \\n \\n33. Project Title: Pharmacoinformatics Approaches to design Dual Inhibitors of Tyrosine Kinase \\nDomain of IR and IGF -IR \\nFunding Agency: HEC  \\nAmounting Rs. 1.227 M  \\nPrincipal Investigator: Dr. Ishrat Jabeen  \\nDuration: 30 Months (2017 -2020)  \\n \\n34. Project Title: Tangible Video Communication  \\nFunding Agency: HEC' metadata={'source': '/content/sines.pdf', 'page': 8}\n",
            "\n",
            "page_content='Amounting Rs. 0.361 M  \\nPrincipal Investigator: Dr. Shahzad Rasool  \\nDuration: 12 Months (2017 -2018)  \\n \\n35. Project Title: Body Area Network Channel Modeling for Communication b/w sensors & \\ninsulin pumps  \\nFunding Agency: HEC  \\nAmounting Rs. 0.473 M  \\nPrincipal Investigator: Dr. Sana Ajmal  \\nDuration: 09 Months (2017 -2018)  \\nSchool of Interdisciplinary Engineering & Sciences  \\n \\n36. Project Title: Design and Optimization of Diffuser for Horizontal Axis Diffuser Augmented \\nTidal Current Turbine  \\nFunding Agency: HEC  \\nAmounting Rs. 0.489 M  \\nPrincipal Investigator: Dr. Salma Sherbaz' metadata={'source': '/content/sines.pdf', 'page': 9}\n",
            "\n",
            "page_content='Funding Agency: HEC  \\nAmounting Rs. 0.489 M  \\nPrincipal Investigator: Dr. Salma Sherbaz  \\nDuration: 12 Months (2017 -2018)  \\n \\n37. Project Title: Structural Evalution of Protein and Screeing of Novel Inhibitors for Ribolsomal \\nS6 Kinase  \\nFunding Agency: HEC  \\nAmounting Rs. 0.3 M  \\nPrincipal Investigator: Dr. Rehan Zafar Paracha  \\nDuration: 18 Months (2017 -2018)  \\n \\n38. Project Title: Structural Controls of Urokinase -like Receptor & Rhomboids; Variations \\nintroduced by Boronic Acid Binding  \\nFunding Agency: HEC  \\nAmounting Rs. 0.24 M  \\nPrincipal Investigator: Dr. Mehak Rafiq' metadata={'source': '/content/sines.pdf', 'page': 9}\n",
            "\n",
            "page_content='Funding Agency: HEC  \\nAmounting Rs. 0.24 M  \\nPrincipal Investigator: Dr. Mehak Rafiq  \\nDuration: 09 Months (2016)  \\n \\n39. Project Title: Formal Analysis of the Impact of Feeding on Hepatocyte Circadian  \\nFunding Agency: HEC  \\nAmounting Rs. 0.93 M  \\nPrincipal Investigator: Dr. Jamil Ahmad  \\nDuration: 18 Months (2016 -2017)  \\n \\n40. Project Title: Analysis of Catamaran Hullform by CFD  \\nFunding Agency: HEC  \\nAmounting Rs. 0.196 M  \\nPrincipal Investigator: Dr. Salma Sherbaz  \\nDuration: 10 Months (2014 -2015)' metadata={'source': '/content/sines.pdf', 'page': 9}\n",
            "\n",
            "page_content='41. Project Title: Design of the Energy -Efficient Ceiling Fans  \\nFunding Agency: HEC  \\nAmounting Rs. 0.498 M  \\nPrincipal Investigator: Dr. Adnan Maqsood  \\nDuration: 12 Months (2013 -2014)  \\n \\n42. Project Title: Lipophilic & Ligand Efficiency; Selectivity Profiles of Inhibitors of Transport \\nProteins  \\nFunding Agency: HEC  \\nAmounting Rs. 0.5 M  \\nPrincipal Investigator: Dr. Ishrat Jabeen  \\nSchool of Interdisciplinary Engineering & Sciences  \\nDuration: 12 Months (2012)  \\n \\n43. Project Title: & Mgt. of MAL Structure in Malaria  \\nFunding Agency: HEC  \\nAmounting Rs. 2.54 M' metadata={'source': '/content/sines.pdf', 'page': 10}\n",
            "\n",
            "page_content='Funding Agency: HEC  \\nAmounting Rs. 2.54 M  \\nPrincipal Investigator: Dr. Umar Hassan Khan Niazi  \\nDuration: 24 Months (2010 -2011)  \\n \\n44. Project Title: External Flow Analysis of Trucks  \\nFunding Agency: HEC  \\nAmounting Rs. 0.48 M  \\nPrincipal Investigator: Dr. Khalid Pervez  \\nDuration: 18 Months (2010 -2011)  \\nRecent Collaborations  \\n \\n \\n \\nSINES FACULTY  \\nDr. Hammad Cheema  \\nDepartment: Admin & Tech Staff  \\nDesignation: Professor - Princip al and Dean  \\nContact number: 051 -886-5700  \\nEmail: principal@sines.nust.edu.pk  \\nOffice Location: Ground Floor Wing A' metadata={'source': '/content/sines.pdf', 'page': 10}\n",
            "\n",
            "page_content='Email: principal@sines.nust.edu.pk  \\nOffice Location: Ground Floor Wing A  \\nVisiting Hours: Tuesday 10am - 12pm  \\nResearch Keywords: Analog IC Design, RF IC Design, Radar Systems, TR Modules, RF \\nFrontends, Chip design, Semiconductors, Internet of Things, Wearables, IOT' metadata={'source': '/content/sines.pdf', 'page': 10}\n",
            "\n",
            "page_content='Hammad M. Cheema is a Professor and dean of School of Interdisciplinary Engineering and \\nSciences (SINES) at the National University of Sciences and Technology (NUST), Islamabad, \\nas well as principal investigator of the Radar Research Group. He graduated fr om NUST \\nCollege of Electrical & Mechanical Engineering (CEME) in Electrical Engineering followed by \\nmaster’s from Denmark, He received his Ph.D. in electrical engineering from Eindhoven \\nUniversity of Technology in the Netherlands and post -doc from KAUST, K SA. He is a senior' metadata={'source': '/content/sines.pdf', 'page': 11}\n",
            "\n",
            "page_content='University of Technology in the Netherlands and post -doc from KAUST, K SA. He is a senior \\nmember of IEEE. Dr. Hammad has a proven track record of academic leadership, excellence in \\nteaching, interdisciplinary research, industrial engagement, licensing, and  \\ncommercialization.  \\nDr. Fouzia Malik  \\nDepartment: Department of Sciences  \\nDesignation: Professor – HOD  \\nContact number: 051 -908-5574  \\nEmail: fouzia@sines.nust.edu.pk  \\nOffice Location: Ground Floor Wing A  \\nVisiting Hours: Tuesday 10am - 12pm' metadata={'source': '/content/sines.pdf', 'page': 11}\n",
            "\n",
            "page_content='Office Location: Ground Floor Wing A  \\nVisiting Hours: Tuesday 10am - 12pm  \\nResearch Keywords: Modeling Water Purification systems, 2D materials for energy storage \\nComputational and Physical Chemistry, Quantum chemical Analysis, Gas capturing, Water \\nSplitting, Smart Membranes for dual applications, Nanomaterials. Nano sensors, met al organic \\nframework  \\nDr. Fauzia Malik is a Professor of the School  of Interdisciplinary Engineering and Sciences \\n(SINES) at the National University of Sciences and Technology (NUST), Islamabad, as well as' metadata={'source': '/content/sines.pdf', 'page': 11}\n",
            "\n",
            "page_content='(SINES) at the National University of Sciences and Technology (NUST), Islamabad, as well as \\nthe HoD of Department of Sciences. She received her Ph.D. in Physical Chemistry from Quaid -\\ne-Azam University with a s ub-discipline in Computational Chemistry, her master’s discipline is \\nalso Physical Chemistry.  \\nDr. Mian Ilyas Ahmad  \\nDepartment: Department of Engineering  \\nDesignation: Professor – HOD  \\nContact number: 051 -886-5745  \\nEmail: m.ilyas@sines.nust.edu.pk  \\nOffice Location: Ground Floor Wing A  \\nVisiting Hours: Tuesday 10am - 12pm' metadata={'source': '/content/sines.pdf', 'page': 11}\n",
            "\n",
            "page_content='Office Location: Ground Floor Wing A  \\nVisiting Hours: Tuesday 10am - 12pm  \\nResearch Keywords: Model Order Reduction, control systems design, system analysis, \\nnumerical mathematics, system identification, scientific machine learning, numerical Linear \\nAlgebra, nonlinear Dynamics Tensor Computations, Energy Networks  \\nDr. Mian Ilyas Ahmad is a Professor of School of Interdisciplinary Engineering and Sciences \\n(SINES) at the National University of Sciences and Technology (NUST), Islamabad, as well as' metadata={'source': '/content/sines.pdf', 'page': 11}\n",
            "\n",
            "page_content='(SINES) at the National University of Sciences and Technology (NUST), Islamabad, as well as \\nthe HoD of Department of Engineering. He received his Ph.D. in Control S ystems from Imperial \\nCollege, London, with sub -discipline Electrical and Electronic Engineering.' metadata={'source': '/content/sines.pdf', 'page': 11}\n",
            "\n",
            "page_content='Dr. Zartasha Mustansar  \\nDepartment: Department of Engineering  \\nDesignation: Associate Professor  \\nContact number: 051 -886-5743  \\nEmail: zmustansar@sines.nust.edu.pk  \\nOffice Location: Ground Floor Wing A  \\nVisiting Hours: Tuesday 10am - 12pm  \\nResearch Keywords: Biomechanics, Finite Elements, 3D Modeling, Image based modeling, \\nDesign thinking, motion capture(mocap), structure mechanics, system dynamics, mathematical \\nmodeling, modeling, and simulation  \\nDr. Zartasha is a Professor and HoD of School of Interdisciplinary Engineering and Sciences' metadata={'source': '/content/sines.pdf', 'page': 12}\n",
            "\n",
            "page_content='Dr. Zartasha is a Professor and HoD of School of Interdisciplinary Engineering and Sciences \\n(SINES) at the National University of Sciences and Technology (NUST), Islamabad. She \\nreceived her Ph.D. in Physical Chemistry from University of Manchester, UK with  sub-discipline \\nin Image -based FEM and BM( Biomech). She is the Principal Investigator of Biomechanics as \\nwell as Makers Lab along with Dr. Hammad M. Cheema.  \\nDr. Ammar Mushtaq  \\nDepartment: Department of Engineering  \\nDesignation: Associate Professor  \\nContact number: 051 -9085 -5736  \\nEmail: ammar.mushtaq@sines.nust.edu.pk' metadata={'source': '/content/sines.pdf', 'page': 12}\n",
            "\n",
            "page_content='Contact number: 051 -9085 -5736  \\nEmail: ammar.mushtaq@sines.nust.edu.pk  \\nOffice Location: Second Floor  \\nVisiting Hours: Tuesday 10am - 12pm  \\nResearch Keywords: CFD, Mathematical modeling, industrial flows simulation, nanofluids, non -\\nNewtonian fluids, differential equations, turbulence, aerodynamics, design optimization, \\nmodeling and Simulation  \\nDr. Zartasha is an Associate Professor and HoD of Research in School of Interdisciplinary \\nEngineering and Sciences (SINES) at the National University of Sciences and Technology' metadata={'source': '/content/sines.pdf', 'page': 12}\n",
            "\n",
            "page_content='Engineering and Sciences (SINES) at the National University of Sciences and Technology \\n(NUST), Islamabad. He received his Ph.D. in CFD from National University of Sci ence and \\nTechnology (NUST), Islamabad. he is the Co -PrincipalInvestigator of Computational \\nAeronautics Lab.  \\nDr. Ishrat Jabeen  \\nDepartment: Department of Sciences  \\nDesignation: Professor  \\nContact number: 051 -886-5732  \\nEmail: Ishrat.jabeen@sines.nust.edu.pk  \\nOffice Location: Fourth Floor  \\nVisiting Hours: Tuesday 10am - 12pm' metadata={'source': '/content/sines.pdf', 'page': 12}\n",
            "\n",
            "page_content='Research Keywords: Drug Design and development, structure bioinformatics, molecular \\ndynamics simulations, ML in Biolocal Sciences, Biological Databases, Proteochemometrics \\nmodeling, personalized medicine, Biomolecular Structural Modeling, Docking Simulatio ns, Local \\nHealthcare data analytics  \\nDr. Ishrat Jabeen is a Professor of School of Interdisciplinary Engineering and Sciences \\n(SINES) at the National University of Sciences and Technology (NUST), Islamabad. She \\nreceived her Ph.D. in Natural Sciences in Chemistry from University of Vienna, Vie nna, Austria,' metadata={'source': '/content/sines.pdf', 'page': 13}\n",
            "\n",
            "page_content='received her Ph.D. in Natural Sciences in Chemistry from University of Vienna, Vie nna, Austria, \\nwith a sub -discipline in Parmaco Informatics, her master’s discipline is also Organic Chemistry. \\nShe is Principal Investigator of  \\nComputational Drug Design Lab.  \\nDr. Tariq Saeed  \\nDepartment: Department of Engineering  \\nDesignation: Associate Professor  \\nContact number: 051 -908-5573  \\nEmail: tariq@sines.nust.edu.pk  \\nOffice Location: Second Floor Wing D  \\nVisiting Hours: Tuesday 10am - 12pm  \\nResearch Keywords: High Performance Computing, Machine Learning, Deep Learning, Image' metadata={'source': '/content/sines.pdf', 'page': 13}\n",
            "\n",
            "page_content='Research Keywords: High Performance Computing, Machine Learning, Deep Learning, Image \\nAnalysis, Data Analytics, AI, DevOps  \\nDr. Tariq Saeed is an Associate Professor of School of Interdisciplinary Engineering and \\nSciences (SINES) at the National University of Sciences and Technology (NUST), Islamabad. \\nHe received his Ph.D. in Information Security from National University of Sci ence and \\nTechnology (NUST), Islamabad. He is the Principal Investigator of Image Analysis Lab and \\nSupercomputing Lab.  \\nDr. Uzma Habib  \\nDepartment: Department of Sciences  \\nDesignation: Associate Professor' metadata={'source': '/content/sines.pdf', 'page': 13}\n",
            "\n",
            "page_content='Dr. Uzma Habib  \\nDepartment: Department of Sciences  \\nDesignation: Associate Professor  \\nContact number: 051 -886-5735  \\nEmail: uzma.habib@sines.nust.edu.pk  \\nOffice Location: Fourth Floor Wing A  \\nVisiting Hours: Tuesday 10am - 12pm  \\nResearch Keywords: Computational Chemistry, Reaction Mechanism, DFT Studies, Inorganic \\nChemistry, Enzymology, Analytical Chemistry, Energy, MD Simulations, Molecular Docking, \\nCoordination  \\nComplexes  \\nDr. Uzma Habib is an Associate Professor of the School  of Interdisciplinary Engineering and' metadata={'source': '/content/sines.pdf', 'page': 13}\n",
            "\n",
            "page_content='Dr. Uzma Habib is an Associate Professor of the School  of Interdisciplinary Engineering and \\nSciences (SINES) at the National University of Sciences and Technology (NUST), Islamabad. \\nShe received her Ph.D. in Computational Chemistry from Heidelberg University, Germany, with \\na sub -discipline in Bioelectromagnetic , her master’s discipline is also Analytical Chemistry.' metadata={'source': '/content/sines.pdf', 'page': 13}\n",
            "\n",
            "page_content='Dr. Zamir Hussain  \\nDepartment: Department of Sciences  \\nDesignation: Associate Professor  \\nContact number: 051 -908-5739  \\nEmail: zamir@sines.nust.edu.pk  \\nOffice Location: FourthFloor Wing A  \\nVisiting Hours: Tuesday 10am - 12pm  \\nResearch Keywords: Extreme value analysis, modeling climate variables, machine learning, AL \\nin health informatics, Screening processes of mental and developmental disorders, smart \\nscreening of cancer, Autism Screening  \\nDr. Zamir Hussain is an Associate Professor of School of Interdisciplinary Engineering and' metadata={'source': '/content/sines.pdf', 'page': 14}\n",
            "\n",
            "page_content='Dr. Zamir Hussain is an Associate Professor of School of Interdisciplinary Engineering and \\nSciences (SINES) at the National University of Sciences and Technology (NUST), Islamabad. \\nHe received his Ph.D. in Virology & Immunology from National University of Science and \\nTechnology (NUST), his MPhil discipline is Pharmaceutical Chemistry.  \\nDr. Rehan Zafar Paracha  \\nDepartment: Department of Engineering  \\nDesignation: Associate Professor  \\nContact number: 051 -908-5730  \\nEmail: rehan@sines.nust.edu.pk  \\nOffice Location: Fourth Floor Wing A  \\nVisiting Hours: Tuesday 10am - 12pm' metadata={'source': '/content/sines.pdf', 'page': 14}\n",
            "\n",
            "page_content='Office Location: Fourth Floor Wing A  \\nVisiting Hours: Tuesday 10am - 12pm  \\nResearch Keywords: Next Generation Sequencing, Virology, Oncology, Biotherapeutics, \\nchemical Sciences, Drug Design, automation, Microbiology, Immunology, Programming  \\nDr. Rehan Zafar Paracha is an Associate Professor of School of Interdisciplinary Engineering \\nand Sciences (SINES) at the National University of Sciences and Technology (NUST), \\nIslamabad. He received his Ph.D. in Virology & Immunology from National Universi ty of Science \\nand Technology (NUST), his MPhil discipline is Pharmaceutical Chemistry.' metadata={'source': '/content/sines.pdf', 'page': 14}\n",
            "\n",
            "page_content='and Technology (NUST), his MPhil discipline is Pharmaceutical Chemistry.  \\nDr. Absaar Ul Jabbar  \\nDepartment: Department of Engineering  \\nDesignation: Assistant Professor – DY Cont Exam  \\nContact number: 051 -908-5725  \\nEmail: absaar@sines.nust.edu.pk  \\nOffice Location: Fourth Floor Wing A  \\nVisiting Hours: Tuesday 10am - 12pm  \\nResearch Keywords: Fluid Mechanics, Computational Fluid Dynamics, Aerodynamics, Machine \\nLearning, Transformers, Nonlinear Control Techniques, Biogydrogen Production, Process \\nSimulation, Finite Element Methods, Multigrid Solvers.' metadata={'source': '/content/sines.pdf', 'page': 14}\n",
            "\n",
            "page_content='Dr. Absaar Ul Jabbar is an assistant Professor at School of Interdisciplinary Engineering and \\nSciences (SINES) at the National University of Sciences and Technology (NUST), Islamabad. \\nHe received his Ph.D. in Mechanical Engineering Technical University, Do rtmund, Germany \\nwith sub -discipline CFD.  \\nDr. Salma Sherbaz  \\nDepartment: Department of Engineering  \\nDesignation: Assistant Professor  \\nContact number: 051 -908-5738  \\nEmail: salmasherbaz@sines.nust.edu.pk  \\nOffice Location: Fourth Floor Wing A  \\nVisiting Hours: Tuesday 10am - 12pm' metadata={'source': '/content/sines.pdf', 'page': 15}\n",
            "\n",
            "page_content='Office Location: Fourth Floor Wing A  \\nVisiting Hours: Tuesday 10am - 12pm  \\nResearch Keywords: Fluid Mechanics, CFD, Aerodynamics, Urban Flows, Urban Heat Island, \\nSports Aerodynamics, marine Renewable energy, greenship, Flow controlling techniques  \\nDr. Salma Sherbaz is an assistant Professor at School of Interdisciplinary Engineering and \\nSciences (SINES) at the National University of Sciences and Technology (NUST), Islamabad. \\nShe received her Ph.D. in CFD from Harbin University of Engineering and Tec hnology, China, \\nher master’s discipline is also CFD.  \\nDr. Shahzad Rasool' metadata={'source': '/content/sines.pdf', 'page': 15}\n",
            "\n",
            "page_content='her master’s discipline is also CFD.  \\nDr. Shahzad Rasool  \\nDepartment: Department of Engineering  \\nDesignation: Assistant Professor  \\nContact number: 051 -886-5737  \\nEmail: shahzad.rasool@sines.nust.edu.pk  \\nOffice Location: Third Floor Wing D  \\nVisiting Hours: Wednesday 12pm - 1pm \\nResearch Keywords: Haptic interactyion, virtual reality, augmented reality, human computer \\ninteraction, brain computer interfaces, computer graphics, serious games, training simulations, \\nimmersive interaction, intelligence virtual agents.' metadata={'source': '/content/sines.pdf', 'page': 15}\n",
            "\n",
            "page_content='immersive interaction, intelligence virtual agents.  \\nDr. Shahzad Rasool is an assistant Professor at School of Interdisciplinary Engineering and \\nSciences (SINES) at the National University of Sciences and Technology (NUST), Islamabad. \\nHe received his Ph.D. in Computer Engineering from Nanyang Technological U niversity (NTU) \\nSingapore, his master’s discipline is Communication Engineering. He is the Principal \\nInvestigator of XR Hive Lab.  \\nDr. Mehak Rafiq  \\nDepartment: Department of Sciences  \\nDesignation: Assistant Professor  \\nContact number: 051 -908-5733' metadata={'source': '/content/sines.pdf', 'page': 15}\n",
            "\n",
            "page_content='Email: mehak@sines.nust.edu.pk  \\nOffice Location: Second Floor  \\nVisiting Hours: Wednesday 12pm - 1pm \\nResearch Keywords: Bioinformatics, Data Analytics, Data -Driven Healthcare, Big data \\nengineering, Generative AI, Machine Learning, Genomics, Proteomics, personalized Medicine \\nResearch, Smart Solutions  \\nDr. Mehak Rafiq is an assistant Professor at School of Interdisciplinary Engineering and \\nSciences (SINES) at the National University of Sciences and Technology (NUST), Islamabad. \\nShe received her Ph.D. in Translational Biology from Greenwich University, UK . She is the P I' metadata={'source': '/content/sines.pdf', 'page': 16}\n",
            "\n",
            "page_content='She received her Ph.D. in Translational Biology from Greenwich University, UK . She is the P I  \\nof Data Analytics Lab.  \\nDr. Masood Ul Rehman Kayani  \\nDepartment: Department of Sciences  \\nDesignation: Assistant Professor  \\nContact number: 051 -886-5744  \\nEmail: m.kayani@sines.nust.edu.pk  \\nOffice Location: Fourth Floor Wing A  \\nVisiting Hours: Wednesday 12pm - 1pm \\nResearch Keywords: Bioinformatics, Data Analytics, Data -Driven Healthcare, Big data \\nengineering, Generative AI, Machine Learning, Genomics, Proteomics, personalized Medicine \\nResearch, Smart Solutions' metadata={'source': '/content/sines.pdf', 'page': 16}\n",
            "\n",
            "page_content='Research, Smart Solutions  \\nDr. Masood Ul Rehman Kayani is an assistant professor at School of Interdisciplinary \\nEngineering and Sciences (SINES) at the National University of Sciences and Technology \\n(NUST), Islamabad. He received his Ph.D. in Bioinformatics Tsinghua University.  \\n \\nLABS in SINES  \\nThere are total 29 labs from 11 different schools that fall under following five themes  \\n1. Health and Well -being  \\n2. Energy and Environment  \\n3. Sensors and automation  \\n4. Materials and manufacturing  \\n5. Agriculture and food security  \\n \\nHealth and Well -Being:' metadata={'source': '/content/sines.pdf', 'page': 16}\n",
            "\n",
            "page_content='4. Materials and manufacturing  \\n5. Agriculture and food security  \\n \\nHealth and Well -Being:  \\nThe following labs fall under this theme:  \\n1. Computational drug design belongs to SINES. Dr. Ishrat Jabeen is the principal \\ninvestigator of this lab.' metadata={'source': '/content/sines.pdf', 'page': 16}\n",
            "\n",
            "page_content='2. Nano Biotechnology Lab belongs to SMME. Dr.Nosheen Fatima is the principal \\ninvestigator of this lab.  \\n3. Deep Learning Lab belongs to SEECS. Dr. Faisal SHafait is the principal investigator of \\nthis lab.  \\n4. Biosensors and Therapeutics Lab belongs to ASAB. Dr. Shah Rukh Abbas is the \\nprincipal investigator of this lab.  \\n5. Data Analytics Lab belongs to SINES. Dr.Mehak Rafiq is the principal investigator of this \\nlab.  \\n6. Biomechanics Lab belongs to SINES. Dr. Zartasha Mustansar is the principal \\ninvestigator of this lab.' metadata={'source': '/content/sines.pdf', 'page': 17}\n",
            "\n",
            "page_content='investigator of this lab.  \\n7. CureMD Research Lab belongs to CEME. Dr. Imran Akhtar is the PI of this lab.  \\nEnergy and Environment:  \\nThe following labs fall under this theme:  \\n1. Electric Vehicle Lab belongs to SEECS. Dr. Rana Iftikhar and Dr. Kamran Zeb is  the \\nCo-Principal investigator of this lab.  \\n2. Nanoscience and technology Lab belongs to SCME. Dr. Zeeshan  and Dr. Mohsin are \\nthe Principal -Investigators of this lab.  \\n3. GIS Mobility Lab belongs to SCEE. Dr. Ali Tahir is the principal investigator of this lab.' metadata={'source': '/content/sines.pdf', 'page': 17}\n",
            "\n",
            "page_content='3. GIS Mobility Lab belongs to SCEE. Dr. Ali Tahir is the principal investigator of this lab.  \\n4. Advanced Integrated Energy Lab belongs to USPCAS -E. Dr. Abeera and Dr. Yusuf are \\nthe principal investigators of this lab.  \\n5. Image Analysis Lab belongs to SINES. Dr. Tariq Saeed is the principal investigator of \\nthis lab.  \\n6. Thermal Energy and Storage Lab belongs to SNS, USPCAS -E and SCME. Dr. Rizwan, \\nDr. Faheem, Dr. Ghulam, and Dr. Talha are the principal investigators of this lab.  \\n \\n \\nSensors and Automation:  \\nThe following labs fall under this theme:' metadata={'source': '/content/sines.pdf', 'page': 17}\n",
            "\n",
            "page_content='Sensors and Automation:  \\nThe following labs fall under this theme:  \\n1. Aerial Robotics Lab belongs to SMME. Dr. Jawad Khan is the principal investigator of \\nthis lab.  \\n2. System -on-Chip (SoC) Lab belongs to SEECS. Dr.Muhammad Imran is the principal \\ninvestigator of this lab.  \\n3. Radar Research Lab belongs to SINES and SEECS. Dr. Hammad M. Cheema, Dr. Abid \\nRafique, and Dr. Umar are the principal investigators of this lab.  \\n4. Defence Research and Innovation Lab belongs to DRD. Dr. Muhammad Saqib is the \\nprincipal investigator of this lab.' metadata={'source': '/content/sines.pdf', 'page': 17}\n",
            "\n",
            "page_content='principal investigator of this lab.  \\n5. Computational Aeronautics Lab belongs to SINES. Dr. Adnan Maqsood, Dr. Ammar \\nMushtaq are the principal investigators of this lab.  \\n6. XR Hive Lab belongs to SINES. Dr. Shahzad Rasool is the principal investigator of this \\nlab.' metadata={'source': '/content/sines.pdf', 'page': 17}\n",
            "\n",
            "page_content='7. Cyber Security Lab belongs to MCS. Dr. Haider Abbas is the principal investigator of this \\nlab.  \\n8. Information Security Lab belongs to SEECS. Dr. Hasan Tahir is the principal investigator \\nof this lab.  \\n9. Cyber Security Lab Lab belongs to MCS. Dr. Tariq Saeed and Engr. Muhammad Usman \\nare the principal investigators of this lab.  \\n10. AIMS Lab belongs to SMME. Dr. Muhammad Sajid is the principal investigator of this \\nlab.  \\nMaterial and Manufacturing:  \\nThe following labs fall under this theme:  \\n1. Microfluidics Lab belongs to SMME. Dr. Emad Uddin is the principal investigator of this' metadata={'source': '/content/sines.pdf', 'page': 18}\n",
            "\n",
            "page_content='1. Microfluidics Lab belongs to SMME. Dr. Emad Uddin is the principal investigator of this \\nlab.  \\n2. Interdisciplinary Design Lab belongs to SADA. Dr. Jawad Zaidi is the principal \\ninvestigator of this lab.  \\n3. Advanced Impact Lab belongs to SMME. Dr. Aamir Mubashar is the principal \\ninvestigator of this lab.  \\n4. Makers Lab belongs to SINES. Dr. Zartasha Mustansar and Dr. Hammad M. Cheema \\nare the principal investigators of this lab.  \\nAgriculture and Food Security:  \\nThe following labs fall under this theme:' metadata={'source': '/content/sines.pdf', 'page': 18}\n",
            "\n",
            "page_content='Agriculture and Food Security:  \\nThe following labs fall under this theme:  \\n5. Smart Agritech Lab belongs to SEECS. Dr. Shahzad Younis is the principal investigator \\nof this lab.  \\n6. Environment and Agriculture Lab belongs to SCEE. Dr. Muhammad Arshad is the \\nprincipal investigator of this lab.' metadata={'source': '/content/sines.pdf', 'page': 18}\n",
            "\n"
          ]
        }
      ]
    },
    {
      "cell_type": "markdown",
      "source": [
        "Empty GPU cache memory to avoid *OUT OF CUDA PROBLEM*"
      ],
      "metadata": {
        "id": "WJC-RFGlHXmI"
      },
      "id": "WJC-RFGlHXmI"
    },
    {
      "cell_type": "code",
      "source": [
        "import torch\n",
        "import gc\n",
        "torch.cuda.empty_cache()\n",
        "gc.collect()"
      ],
      "metadata": {
        "colab": {
          "base_uri": "https://localhost:8080/"
        },
        "id": "JwTAY1QZAgp0",
        "outputId": "7920ea1a-998b-478a-8e4a-3ff6d71740bc"
      },
      "id": "JwTAY1QZAgp0",
      "execution_count": 111,
      "outputs": [
        {
          "output_type": "execute_result",
          "data": {
            "text/plain": [
              "1629"
            ]
          },
          "metadata": {},
          "execution_count": 111
        }
      ]
    },
    {
      "cell_type": "markdown",
      "id": "c1e75d34-cf63-49a8-a671-88ccb5444367",
      "metadata": {
        "id": "c1e75d34-cf63-49a8-a671-88ccb5444367"
      },
      "source": [
        "### Building RAG Chain\n",
        "we use following things to build the chain:\n",
        "- reteriver (context based on the top similar documents)\n",
        "- Query from the user (that will be passed later)\n",
        "- And a Generator Mistal Model for response generation"
      ]
    },
    {
      "cell_type": "code",
      "execution_count": 112,
      "id": "a1e18178-46f2-4b87-86c4-d13ff5219968",
      "metadata": {
        "tags": [],
        "id": "a1e18178-46f2-4b87-86c4-d13ff5219968"
      },
      "outputs": [],
      "source": [
        "rag_chain = (\n",
        " {\"context\": retriever, \"question\": RunnablePassthrough()}\n",
        "    | llm_chain\n",
        ")"
      ]
    },
    {
      "cell_type": "markdown",
      "source": [
        "# **Some Examples with RAG**\n",
        "we pose some questions to the RAG based chain for answering."
      ],
      "metadata": {
        "id": "3Brh7dRGMZUE"
      },
      "id": "3Brh7dRGMZUE"
    },
    {
      "cell_type": "code",
      "source": [
        "result = rag_chain.invoke(\"list all the faculty members from SINES?\")\n",
        "print(result['text'])"
      ],
      "metadata": {
        "colab": {
          "base_uri": "https://localhost:8080/"
        },
        "id": "ocGDBwX9KWJI",
        "outputId": "b2df1507-2fe4-4376-8d05-38f8385bdf4a"
      },
      "id": "ocGDBwX9KWJI",
      "execution_count": 113,
      "outputs": [
        {
          "output_type": "stream",
          "name": "stderr",
          "text": [
            "/usr/local/lib/python3.10/dist-packages/transformers/pipelines/base.py:1101: UserWarning: You seem to be using the pipelines sequentially on GPU. In order to maximize efficiency please use a dataset\n",
            "  warnings.warn(\n",
            "Setting `pad_token_id` to `eos_token_id`:2 for open-end generation.\n"
          ]
        },
        {
          "output_type": "stream",
          "name": "stdout",
          "text": [
            "19 faculty members, including associate professors, assistant professors, RVFs and uniform faculty\n"
          ]
        }
      ]
    },
    {
      "cell_type": "code",
      "source": [
        "result = rag_chain.invoke(\"could you provide information on SINES labs?\")\n",
        "print(result['text'])"
      ],
      "metadata": {
        "colab": {
          "base_uri": "https://localhost:8080/"
        },
        "id": "bw06dg3nKcFd",
        "outputId": "7777ad77-481c-434a-8327-96d0e81c5183"
      },
      "id": "bw06dg3nKcFd",
      "execution_count": 115,
      "outputs": [
        {
          "output_type": "stream",
          "name": "stderr",
          "text": [
            "/usr/local/lib/python3.10/dist-packages/transformers/pipelines/base.py:1101: UserWarning: You seem to be using the pipelines sequentially on GPU. In order to maximize efficiency please use a dataset\n",
            "  warnings.warn(\n",
            "Setting `pad_token_id` to `eos_token_id`:2 for open-end generation.\n"
          ]
        },
        {
          "output_type": "stream",
          "name": "stdout",
          "text": [
            "\n",
            "Based on the given documents, SINES has several labs that fall under different themes such as materials and manufacturing, agriculture and food security, and health and well-being. The lab that falls under the health and well-being theme is the computational drug design lab, which is led by Dr. Ishrat Jabeen. It's worth noting that SINES is committed to excellence in academics and interdisciplinary research, with competent faculty and relevant equipped facilities being its key strengths. They offer current content being delivered by domain experts and have a unique faculty with a total of 19 faculty members, including associate professors, assistant professors, RVFs, and uniform faculty.\n"
          ]
        }
      ]
    },
    {
      "cell_type": "code",
      "source": [
        "result = rag_chain.invoke(\"Who is principal of SINES?\")\n",
        "print(result['text'])"
      ],
      "metadata": {
        "colab": {
          "base_uri": "https://localhost:8080/"
        },
        "id": "iC0HtV7bS7Im",
        "outputId": "bb7898fb-1fb4-4c70-bfb1-4c15b34f4d64"
      },
      "id": "iC0HtV7bS7Im",
      "execution_count": 117,
      "outputs": [
        {
          "output_type": "stream",
          "name": "stderr",
          "text": [
            "/usr/local/lib/python3.10/dist-packages/transformers/pipelines/base.py:1101: UserWarning: You seem to be using the pipelines sequentially on GPU. In order to maximize efficiency please use a dataset\n",
            "  warnings.warn(\n",
            "Setting `pad_token_id` to `eos_token_id`:2 for open-end generation.\n"
          ]
        },
        {
          "output_type": "stream",
          "name": "stdout",
          "text": [
            "\n",
            "The principal of SINES is Dr Hammad M. Cheema.\n"
          ]
        }
      ]
    },
    {
      "cell_type": "code",
      "source": [
        "result = rag_chain.invoke(\"Tell me about Radar lab?\")\n",
        "print(result['text'])"
      ],
      "metadata": {
        "colab": {
          "base_uri": "https://localhost:8080/"
        },
        "id": "uuIQY_r7TG5s",
        "outputId": "cd64f552-b50c-4e96-d8d0-161beb356699"
      },
      "id": "uuIQY_r7TG5s",
      "execution_count": 119,
      "outputs": [
        {
          "output_type": "stream",
          "name": "stderr",
          "text": [
            "/usr/local/lib/python3.10/dist-packages/transformers/pipelines/base.py:1101: UserWarning: You seem to be using the pipelines sequentially on GPU. In order to maximize efficiency please use a dataset\n",
            "  warnings.warn(\n",
            "Setting `pad_token_id` to `eos_token_id`:2 for open-end generation.\n"
          ]
        },
        {
          "output_type": "stream",
          "name": "stdout",
          "text": [
            " The Radar Research Lab falls under the theme of Sensors and Automation at the National University of Sciences and Technology (NUST) in Pakistan. It is jointly affiliated with the School of Interdisciplinary Engineering and Sciences (SINES) and the Department of Electrical and Computer Engineering (SEECS). The lab is led by Principal Investigators Dr. Hammad M. Cheema, Dr. Abid Rafique, and Dr. Umar. The lab focuses on research and development in the field of radar technology, including the design, implementation, and testing of various radar systems. Some of the projects currently being undertaken in the lab include the development of an obstacle detection and warning system for railways using microwave long-range radar, and the restoration of habitats through tree plantation using tracking portals.\n"
          ]
        }
      ]
    },
    {
      "cell_type": "markdown",
      "source": [
        "# **Extending RAG to consider previous chat history**\n"
      ],
      "metadata": {
        "id": "nqRE1q9FZKi5"
      },
      "id": "nqRE1q9FZKi5"
    },
    {
      "cell_type": "code",
      "source": [
        "from langchain.schema import format_document\n",
        "from langchain_core.messages import get_buffer_string\n",
        "from langchain_core.runnables import RunnableLambda, RunnablePassthrough\n",
        "from langchain.memory import ConversationBufferMemory\n",
        "from langchain.prompts.prompt import PromptTemplate\n",
        "from langchain_core.prompts.chat import ChatPromptTemplate\n",
        "\n",
        "from operator import itemgetter"
      ],
      "metadata": {
        "id": "wq9UpEuZI4hC"
      },
      "id": "wq9UpEuZI4hC",
      "execution_count": 75,
      "outputs": []
    },
    {
      "cell_type": "code",
      "source": [
        "standalone_query_generation_pipeline = pipeline(\n",
        " model=model,\n",
        " tokenizer=tokenizer,\n",
        " task=\"text-generation\",\n",
        " temperature=0.0,\n",
        " repetition_penalty=1.1,\n",
        " return_full_text=True,\n",
        " max_new_tokens=1000,\n",
        ")\n",
        "standalone_query_generation_llm = HuggingFacePipeline(pipeline=standalone_query_generation_pipeline)\n",
        "\n",
        "response_generation_pipeline = pipeline(\n",
        " model=model,\n",
        " tokenizer=tokenizer,\n",
        " task=\"text-generation\",\n",
        " temperature=0.2,\n",
        " repetition_penalty=1.1,\n",
        " return_full_text=True,\n",
        " max_new_tokens=1000,\n",
        ")\n",
        "response_generation_llm = HuggingFacePipeline(pipeline=response_generation_pipeline)"
      ],
      "metadata": {
        "id": "lpVs9PeYIKpf"
      },
      "id": "lpVs9PeYIKpf",
      "execution_count": 128,
      "outputs": []
    },
    {
      "cell_type": "code",
      "source": [
        "_template = \"\"\"\n",
        "[INST]\n",
        "Given the following conversation and a follow up question, rephrase the follow up question to be a standalone question, in its original language, that can be used to query a FAISS index. This query will be used to retrieve documents with additional context.\n",
        "\n",
        "Let me share a couple examples that will be important.\n",
        "\n",
        "If you do not see any chat history, you MUST return the \"Follow Up Input\" as is:\n",
        "\n",
        "```\n",
        "Chat History:\n",
        "\n",
        "Follow Up Input: Where is SINES located?\n",
        "Standalone Question:\n",
        "Where is SINES located?\n",
        "```\n",
        "\n",
        "If this is the second question onwards, you should properly rephrase the question like this:\n",
        "\n",
        "```\n",
        "Chat History:\n",
        "Human: Where is SINES located?\n",
        "AI:\n",
        "SINES is located at NUST, Islamabad Pakistan.\n",
        "\n",
        "Follow Up Input: When was it built?\n",
        "Standalone Question:\n",
        "When was SINES built?\n",
        "```\n",
        "\n",
        "Now, with those examples, here is the actual chat history and input question.\n",
        "\n",
        "Chat History:\n",
        "{chat_history}\n",
        "\n",
        "Follow Up Input: {question}\n",
        "Standalone question:\n",
        "[your response here]\n",
        "[/INST]\n",
        "\"\"\"\n",
        "CONDENSE_QUESTION_PROMPT = PromptTemplate.from_template(_template)"
      ],
      "metadata": {
        "id": "HKl4hRvhI6FC"
      },
      "id": "HKl4hRvhI6FC",
      "execution_count": 129,
      "outputs": []
    },
    {
      "cell_type": "code",
      "source": [
        "template = \"\"\"\n",
        "[INST]\n",
        "Answer the question based only on the following context:\n",
        "{context}\n",
        "\n",
        "Question: {question}\n",
        "[/INST]\n",
        "\"\"\"\n",
        "ANSWER_PROMPT = ChatPromptTemplate.from_template(template)"
      ],
      "metadata": {
        "id": "tVeHWOGXJCsK"
      },
      "id": "tVeHWOGXJCsK",
      "execution_count": 130,
      "outputs": []
    },
    {
      "cell_type": "code",
      "source": [
        "DEFAULT_DOCUMENT_PROMPT = PromptTemplate.from_template(template=\"{page_content}\")\n",
        "\n",
        "def _combine_documents(\n",
        "    docs, document_prompt=DEFAULT_DOCUMENT_PROMPT, document_separator=\"\\n\\n\"\n",
        "):\n",
        "    doc_strings = [format_document(doc, document_prompt) for doc in docs]\n",
        "    return document_separator.join(doc_strings)"
      ],
      "metadata": {
        "id": "tM1ej5rPJGXc"
      },
      "id": "tM1ej5rPJGXc",
      "execution_count": 131,
      "outputs": []
    },
    {
      "cell_type": "code",
      "source": [
        "# Instantiate ConversationBufferMemory\n",
        "memory = ConversationBufferMemory(\n",
        " return_messages=True, output_key=\"answer\", input_key=\"question\"\n",
        ")\n",
        "\n",
        "# First we add a step to load memory\n",
        "# This adds a \"memory\" key to the input object\n",
        "loaded_memory = RunnablePassthrough.assign(\n",
        "    chat_history=RunnableLambda(memory.load_memory_variables) | itemgetter(\"history\"),\n",
        ")\n",
        "# Now we calculate the standalone question\n",
        "standalone_question = {\n",
        "    \"standalone_question\": {\n",
        "        \"question\": lambda x: x[\"question\"],\n",
        "        \"chat_history\": lambda x: get_buffer_string(x[\"chat_history\"]),\n",
        "    }\n",
        "    | CONDENSE_QUESTION_PROMPT\n",
        "    | standalone_query_generation_llm,\n",
        "}\n",
        "# Now we retrieve the documents\n",
        "retrieved_documents = {\n",
        "    \"docs\": itemgetter(\"standalone_question\") | retriever,\n",
        "    \"question\": lambda x: x[\"standalone_question\"],\n",
        "}\n",
        "# Now we construct the inputs for the final prompt\n",
        "final_inputs = {\n",
        "    \"context\": lambda x: _combine_documents(x[\"docs\"]),\n",
        "    \"question\": itemgetter(\"question\"),\n",
        "}\n",
        "# And finally, we do the part that returns the answers\n",
        "answer = {\n",
        "    \"answer\": final_inputs | ANSWER_PROMPT | response_generation_llm,\n",
        "    \"question\": itemgetter(\"question\"),\n",
        "    \"context\": final_inputs[\"context\"]\n",
        "}\n",
        "# And now we put it all together!\n",
        "final_chain = loaded_memory | standalone_question | retrieved_documents | answer"
      ],
      "metadata": {
        "id": "uDv5NeXOJLjF"
      },
      "id": "uDv5NeXOJLjF",
      "execution_count": 132,
      "outputs": []
    },
    {
      "cell_type": "code",
      "source": [
        "def call_conversational_rag(question, chain, memory):\n",
        "    \"\"\"\n",
        "    Calls a conversational RAG (Retrieval-Augmented Generation) model to generate an answer to a given question.\n",
        "\n",
        "    This function sends a question to the RAG model, retrieves the answer, and stores the question-answer pair in memory\n",
        "    for context in future interactions.\n",
        "\n",
        "    Parameters:\n",
        "    question (str): The question to be answered by the RAG model.\n",
        "    chain (LangChain object): An instance of LangChain which encapsulates the RAG model and its functionality.\n",
        "    memory (Memory object): An object used for storing the context of the conversation.\n",
        "\n",
        "    Returns:\n",
        "    dict: A dictionary containing the generated answer from the RAG model.\n",
        "    \"\"\"\n",
        "\n",
        "    # Prepare the input for the RAG model\n",
        "    inputs = {\"question\": question}\n",
        "\n",
        "    # Invoke the RAG model to get an answer\n",
        "    result = chain.invoke(inputs)\n",
        "\n",
        "    # Save the current question and its answer to memory for future context\n",
        "    memory.save_context(inputs, {\"answer\": result[\"answer\"]})\n",
        "\n",
        "    # Return the result\n",
        "    return result"
      ],
      "metadata": {
        "id": "qV6MfGiZJPPA"
      },
      "id": "qV6MfGiZJPPA",
      "execution_count": 133,
      "outputs": []
    },
    {
      "cell_type": "code",
      "execution_count": 144,
      "id": "63253cbc-9de3-41b9-a5c8-b672333f479c",
      "metadata": {
        "colab": {
          "base_uri": "https://localhost:8080/"
        },
        "id": "63253cbc-9de3-41b9-a5c8-b672333f479c",
        "outputId": "094016fa-1e55-482e-86ca-14e22e771a44"
      },
      "outputs": [
        {
          "output_type": "stream",
          "name": "stderr",
          "text": [
            "/usr/local/lib/python3.10/dist-packages/transformers/generation/configuration_utils.py:381: UserWarning: `do_sample` is set to `False`. However, `temperature` is set to `0.0` -- this flag is only used in sample-based generation modes. You should set `do_sample=True` or unset `temperature`.\n",
            "  warnings.warn(\n",
            "Setting `pad_token_id` to `eos_token_id`:2 for open-end generation.\n",
            "/usr/local/lib/python3.10/dist-packages/transformers/generation/configuration_utils.py:381: UserWarning: `do_sample` is set to `False`. However, `temperature` is set to `0.2` -- this flag is only used in sample-based generation modes. You should set `do_sample=True` or unset `temperature`.\n",
            "  warnings.warn(\n",
            "Setting `pad_token_id` to `eos_token_id`:2 for open-end generation.\n"
          ]
        }
      ],
      "source": [
        "\n",
        "question = \"What is SINES?\"\n",
        "response = call_conversational_rag(question, final_chain, memory)"
      ]
    },
    {
      "cell_type": "code",
      "source": [
        "print(response['answer'])"
      ],
      "metadata": {
        "colab": {
          "base_uri": "https://localhost:8080/"
        },
        "id": "EcxWPrnoV-A6",
        "outputId": "1c46c3a4-06d8-4745-99eb-8b8ba8cbca2d"
      },
      "id": "EcxWPrnoV-A6",
      "execution_count": 143,
      "outputs": [
        {
          "output_type": "stream",
          "name": "stdout",
          "text": [
            "The programs offered by SINES at NUST include specialized topics in various fields such as aerospace engineering, computer science and information systems, and supercomputing research and education.\n"
          ]
        }
      ]
    },
    {
      "cell_type": "code",
      "source": [
        "question = \"Can you provide information about courses offered?\"\n",
        "response = call_conversational_rag(question, final_chain, memory)\n",
        "print(response['answer'])"
      ],
      "metadata": {
        "colab": {
          "base_uri": "https://localhost:8080/"
        },
        "id": "mZ-Y2FnMWhVX",
        "outputId": "2b3500bd-ecbc-4f10-a1d1-eb903f251369"
      },
      "id": "mZ-Y2FnMWhVX",
      "execution_count": 146,
      "outputs": [
        {
          "output_type": "stream",
          "name": "stderr",
          "text": [
            "/usr/local/lib/python3.10/dist-packages/transformers/generation/configuration_utils.py:381: UserWarning: `do_sample` is set to `False`. However, `temperature` is set to `0.0` -- this flag is only used in sample-based generation modes. You should set `do_sample=True` or unset `temperature`.\n",
            "  warnings.warn(\n",
            "Setting `pad_token_id` to `eos_token_id`:2 for open-end generation.\n",
            "/usr/local/lib/python3.10/dist-packages/transformers/generation/configuration_utils.py:381: UserWarning: `do_sample` is set to `False`. However, `temperature` is set to `0.2` -- this flag is only used in sample-based generation modes. You should set `do_sample=True` or unset `temperature`.\n",
            "  warnings.warn(\n",
            "Setting `pad_token_id` to `eos_token_id`:2 for open-end generation.\n"
          ]
        },
        {
          "output_type": "stream",
          "name": "stdout",
          "text": [
            "Based on the given context, SINES offers courses in Aeronautical Engineering and Computer Science and Information Systems at NUST. However, there is no specific information provided about the courses offered by SINES. It is recommended to check the official website or contact the university directly for more details on the courses offered by SINES.\n"
          ]
        }
      ]
    },
    {
      "cell_type": "code",
      "source": [],
      "metadata": {
        "id": "Z6is72QmW7-W"
      },
      "id": "Z6is72QmW7-W",
      "execution_count": null,
      "outputs": []
    }
  ],
  "metadata": {
    "environment": {
      "kernel": "python3",
      "name": "common-gpu.m114",
      "type": "gcloud",
      "uri": "gcr.io/deeplearning-platform-release/base-gpu:m114"
    },
    "kernelspec": {
      "display_name": "Python 3",
      "name": "python3"
    },
    "language_info": {
      "codemirror_mode": {
        "name": "ipython",
        "version": 3
      },
      "file_extension": ".py",
      "mimetype": "text/x-python",
      "name": "python",
      "nbconvert_exporter": "python",
      "pygments_lexer": "ipython3",
      "version": "3.10.13"
    },
    "colab": {
      "provenance": [],
      "gpuType": "T4"
    },
    "accelerator": "GPU"
  },
  "nbformat": 4,
  "nbformat_minor": 5
}