{
 "cells": [
  {
   "cell_type": "code",
   "execution_count": 15,
   "metadata": {},
   "outputs": [],
   "source": [
    "from langchain_community.document_loaders import PyPDFLoader\n",
    "\n",
    "loader = PyPDFLoader(\"../dataset/sines.pdf\")\n",
    "docs = loader.load_and_split()"
   ]
  },
  {
   "cell_type": "code",
   "execution_count": 16,
   "metadata": {},
   "outputs": [],
   "source": [
    "text = docs[0].page_content.replace(\"\\n\", \" \")"
   ]
  },
  {
   "cell_type": "code",
   "execution_count": 14,
   "metadata": {},
   "outputs": [],
   "source": [
    "from langchain.text_splitter import CharacterTextSplitter, RecursiveCharacterTextSplitter"
   ]
  },
  {
   "cell_type": "code",
   "execution_count": 17,
   "metadata": {},
   "outputs": [],
   "source": [
    "# Chunk text\n",
    "text_splitter = RecursiveCharacterTextSplitter(chunk_size=600,\n",
    "                                      chunk_overlap=30)\n",
    "chunked_documents = text_splitter.split_documents(docs)\n"
   ]
  },
  {
   "cell_type": "code",
   "execution_count": 24,
   "metadata": {},
   "outputs": [
    {
     "data": {
      "text/plain": [
       "'Welcome to SINES School of Interdisciplinary Engineering & Sciences is a top-notch research institute, one of its own kinds in the country; parented by National University of Science and Technology Islamabad. It was established in 2007 and is famous for its supercomputing facilities which provide its technical studies with cutting edge resources. SINES NUST’s supercomputer once made it to the list of top 500 supercomputers worldwide. Facilitated by the enabling environment the faculty and students at SINES developed a multi-disciplinary approach to research and education. The result oriented'"
      ]
     },
     "execution_count": 24,
     "metadata": {},
     "output_type": "execute_result"
    }
   ],
   "source": [
    "chunked_documents[0].page_content.replace(\"\\n\", \" \")"
   ]
  },
  {
   "cell_type": "code",
   "execution_count": 25,
   "metadata": {},
   "outputs": [
    {
     "data": {
      "text/plain": [
       "'The result oriented research by our faculty and students has made significant contributions in the socio-economic growth of the country. The education, training and research activities of SINES have been divided into two main streams, namely: Computational Sciences; and Computational Engineering. At SINES, students are encouraged and facilitated to involve themselves in specialized topics with faculty members who are on the forefront of innovation in their fields and the practitioners who bring real-world, real-time experience to the classroom. The SINES community is driven by a shared'"
      ]
     },
     "execution_count": 25,
     "metadata": {},
     "output_type": "execute_result"
    }
   ],
   "source": [
    "chunked_documents[1].page_content.replace(\"\\n\", \" \")"
   ]
  },
  {
   "cell_type": "code",
   "execution_count": 26,
   "metadata": {},
   "outputs": [
    {
     "data": {
      "text/plain": [
       "'is driven by a shared purpose: to make a better world through education, research, and innovation. Why SINES? – National University of Sciences and Technology (NUST) World’s Top Universities and Departments NUST is placed at number 400 in the QS World University Ranking 2019. Moreover, in the subject ranking, the university is placed at number 367 in Aeronautical Engineering and at number 273 in Computer Science and Information Systems. SINES improved scores in academic reputation, citations per faculty, faculty/student ratio has helped further consolidate its position this year.'"
      ]
     },
     "execution_count": 26,
     "metadata": {},
     "output_type": "execute_result"
    }
   ],
   "source": [
    "chunked_documents[2].page_content.replace(\"\\n\", \" \")"
   ]
  },
  {
   "cell_type": "code",
   "execution_count": 27,
   "metadata": {},
   "outputs": [],
   "source": [
    "dataset = chunked_documents[:10]"
   ]
  },
  {
   "cell_type": "code",
   "execution_count": 28,
   "metadata": {},
   "outputs": [
    {
     "name": "stdout",
     "output_type": "stream",
     "text": [
      "10\n"
     ]
    }
   ],
   "source": [
    "print(len(dataset))"
   ]
  },
  {
   "cell_type": "code",
   "execution_count": 36,
   "metadata": {},
   "outputs": [],
   "source": [
    "context = []\n",
    "for doc in dataset:\n",
    "    page_content = doc.page_content.replace(\"\\n\", \" \")\n",
    "    context.append(page_content)\n",
    "    "
   ]
  },
  {
   "cell_type": "code",
   "execution_count": 37,
   "metadata": {},
   "outputs": [
    {
     "data": {
      "text/plain": [
       "['Welcome to SINES School of Interdisciplinary Engineering & Sciences is a top-notch research institute, one of its own kinds in the country; parented by National University of Science and Technology Islamabad. It was established in 2007 and is famous for its supercomputing facilities which provide its technical studies with cutting edge resources. SINES NUST’s supercomputer once made it to the list of top 500 supercomputers worldwide. Facilitated by the enabling environment the faculty and students at SINES developed a multi-disciplinary approach to research and education. The result oriented',\n",
       " 'The result oriented research by our faculty and students has made significant contributions in the socio-economic growth of the country. The education, training and research activities of SINES have been divided into two main streams, namely: Computational Sciences; and Computational Engineering. At SINES, students are encouraged and facilitated to involve themselves in specialized topics with faculty members who are on the forefront of innovation in their fields and the practitioners who bring real-world, real-time experience to the classroom. The SINES community is driven by a shared',\n",
       " 'is driven by a shared purpose: to make a better world through education, research, and innovation. Why SINES? – National University of Sciences and Technology (NUST) World’s Top Universities and Departments NUST is placed at number 400 in the QS World University Ranking 2019. Moreover, in the subject ranking, the university is placed at number 367 in Aeronautical Engineering and at number 273 in Computer Science and Information Systems. SINES improved scores in academic reputation, citations per faculty, faculty/student ratio has helped further consolidate its position this year.',\n",
       " 'its position this year. SUPERCOMPUTING RESEARCH AND EDUCATION CENTRE (SCREC) Supercomputing Research and Education Facility is a Centre of Excellence in High-Performance Computing with a mission to support the research and development efforts at the National University of Sciences and Technology (NUST). Expert Faculty Members SINES takes pride in its faculty members that have completed their education from highly ranked universities worldwide. Their experience from these universities allows the school to',\n",
       " 'offer current content being delivered by domain experts. We have unique faculty, a total of 19 faculty members, including associate professors, assistant professors, RVFs and uniform faculty Finest learning environment At SINES, students are encouraged and facilitated to involve themselves in specialized topics with faculty members who are at the forefront of innovation in their fields and the practitioners who bring real-world, real-time experience to the classroom. Vision and Mission SINES: Vision To be known for interdisciplinary education and research in engineering and sciences,',\n",
       " 'in engineering and sciences, commitment to discovery and dissemination of knowledge, developing technical, managerial, interpersonal and communication skills and contributing in socio-economic growth of the country through innovative solution methodologies for problems in a variety of fields via modeling & simulation SINES: Mission To provide excellent interdisciplinary wholesome education and research opportunities of modeling & simulation in engineering and sciences to students from diverse background through competent faculty, adaptive mechanisms and enabling environment in collaboration',\n",
       " 'environment in collaboration with various constituencies of the society SINES : Core Values Integrity Innovation Teamwork History and Establishment The School of Interdisciplinary Engineering & Sciences (SINES) was established at NUST in 2007 to set up modeling and simulation facilities for design and development in various disciplines through education, training and research. The center was founded to act as a platform to integrate design and development efforts by the government, academia and industry. Progress in this direction could only be made through cross-disciplinary research and',\n",
       " 'research and educational programmes in collaboration with industry and government. Specifically, there was a need for integrating analytical and computational techniques with advances in computer hardware and software. SINES started its first MS programme in Computational Science and Engineering in Fall 2008, with specializations in “Fluid Flow and Structures” and “Computational Infrastructures and Visualisation”. In Fall, 2010, the programme was extended to PhD in Computational Science and Engineering. During the first four years, the educational and research programmes at SINES grew on the',\n",
       " 'at SINES grew on the foundation of ten interrelated thrust areas, each focusing on mathematical modeling and',\n",
       " 'simulation of a particular domain: structures; fluids; electrical systems; communication systems; computer and network architecture; operations research; and human behavior. In 2011, computational biology and drug design were added as new concentration areas both in MS and PhD. In 2012, a Centre of Excellence titled ‘Super Computing Research and Education Center (SCREC)’ was established at SINES. SCREC houses a supercomputing facility and is presently being utilized in computation-intensive research projects in the areas of fluid dynamics and biosciences. Recently, the education, training and']"
      ]
     },
     "execution_count": 37,
     "metadata": {},
     "output_type": "execute_result"
    }
   ],
   "source": [
    "context"
   ]
  },
  {
   "cell_type": "code",
   "execution_count": 40,
   "metadata": {},
   "outputs": [
    {
     "name": "stderr",
     "output_type": "stream",
     "text": [
      "c:\\Users\\faizan\\anaconda3\\envs\\rag_chatbot\\lib\\site-packages\\bitsandbytes\\cextension.py:34: UserWarning: The installed version of bitsandbytes was compiled without GPU support. 8-bit optimizers, 8-bit multiplication, and GPU quantization are unavailable.\n",
      "  warn(\"The installed version of bitsandbytes was compiled without GPU support. \"\n"
     ]
    },
    {
     "name": "stdout",
     "output_type": "stream",
     "text": [
      "'NoneType' object has no attribute 'cadam32bit_grad_fp32'\n",
      "WARNING:tensorflow:From c:\\Users\\faizan\\anaconda3\\envs\\rag_chatbot\\lib\\site-packages\\keras\\src\\losses.py:2976: The name tf.losses.sparse_softmax_cross_entropy is deprecated. Please use tf.compat.v1.losses.sparse_softmax_cross_entropy instead.\n",
      "\n"
     ]
    },
    {
     "name": "stderr",
     "output_type": "stream",
     "text": [
      "c:\\Users\\faizan\\anaconda3\\envs\\rag_chatbot\\lib\\site-packages\\torch\\_utils.py:831: UserWarning: TypedStorage is deprecated. It will be removed in the future and UntypedStorage will be the only storage class. This should only matter to you if you are using storages directly.  To access UntypedStorage directly, use tensor.untyped_storage() instead of tensor.storage()\n",
      "  return self.fget.__get__(instance, owner)()\n"
     ]
    },
    {
     "name": "stdout",
     "output_type": "stream",
     "text": [
      "[[ 0.02250257 -0.07829178 -0.02303074 ... -0.00827928  0.02652692\n",
      "  -0.00201897]\n",
      " [ 0.04170237  0.00109738 -0.01553418 ... -0.02181629 -0.06359358\n",
      "  -0.00875285]]\n"
     ]
    }
   ],
   "source": [
    "from sentence_transformers import SentenceTransformer\n",
    "sentences = [\"This is an example sentence\", \"Each sentence is converted\"]\n",
    "\n",
    "model = SentenceTransformer('sentence-transformers/all-mpnet-base-v2')\n",
    "embeddings = model.encode(sentences)\n",
    "print(embeddings)"
   ]
  },
  {
   "cell_type": "code",
   "execution_count": 42,
   "metadata": {},
   "outputs": [],
   "source": [
    "from pinecone import Pinecone\n",
    "from tqdm.autonotebook import tqdm\n",
    "pc = Pinecone(api_key=\"67849698-b32a-42f1-b55d-fb4eb8091d3a\")\n",
    "index = pc.Index(\"test-index\")"
   ]
  },
  {
   "cell_type": "code",
   "execution_count": 43,
   "metadata": {},
   "outputs": [
    {
     "name": "stderr",
     "output_type": "stream",
     "text": [
      "100%|██████████| 5/5 [00:05<00:00,  1.18s/it]\n"
     ]
    }
   ],
   "source": [
    "batch_size=2 \n",
    "vector_limit=10000\n",
    "\n",
    "# questions = question[:vector_limit]\n",
    "questions = context\n",
    "\n",
    "import json\n",
    "\n",
    "for i in tqdm(range(0, len(questions), batch_size)):\n",
    "    # find end of batch\n",
    "    i_end = min(i+batch_size, len(questions))\n",
    "    # create IDs batch\n",
    "    ids = [str(x) for x in range(i, i_end)]\n",
    "    # create metadata batch\n",
    "    metadatas = [{'text': text} for text in questions[i:i_end]]\n",
    "    # create embeddings\n",
    "    xc = model.encode(questions[i:i_end])\n",
    "    # create records list for upsert\n",
    "    records = zip(ids, xc, metadatas)\n",
    "    # upsert to Pinecone\n",
    "    index.upsert(vectors=records)"
   ]
  },
  {
   "cell_type": "code",
   "execution_count": 44,
   "metadata": {},
   "outputs": [
    {
     "data": {
      "text/plain": [
       "{'dimension': 768,\n",
       " 'index_fullness': 0.0001,\n",
       " 'namespaces': {'': {'vector_count': 10}},\n",
       " 'total_vector_count': 10}"
      ]
     },
     "execution_count": 44,
     "metadata": {},
     "output_type": "execute_result"
    }
   ],
   "source": [
    "index.describe_index_stats()"
   ]
  },
  {
   "cell_type": "code",
   "execution_count": null,
   "metadata": {},
   "outputs": [],
   "source": [
    "def run_query(query):\n",
    "  embedding = model.encode(query).tolist()\n",
    "  results = index.query(top_k=2, vector=embedding, include_metadata=True, include_values=False)\n",
    "  for result in results['matches']:\n",
    "    print(f\"{round(result['score'], 2)}: {result['metadata']['text']}\")"
   ]
  }
 ],
 "metadata": {
  "kernelspec": {
   "display_name": "rag_chatbot",
   "language": "python",
   "name": "python3"
  },
  "language_info": {
   "codemirror_mode": {
    "name": "ipython",
    "version": 3
   },
   "file_extension": ".py",
   "mimetype": "text/x-python",
   "name": "python",
   "nbconvert_exporter": "python",
   "pygments_lexer": "ipython3",
   "version": "3.9.6"
  }
 },
 "nbformat": 4,
 "nbformat_minor": 2
}
